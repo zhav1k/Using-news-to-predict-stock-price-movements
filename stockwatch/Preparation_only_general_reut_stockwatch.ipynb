{
 "cells": [
  {
   "cell_type": "code",
   "execution_count": 1,
   "metadata": {},
   "outputs": [],
   "source": [
    "import pandas as pd\n",
    "import numpy as np\n",
    "from sklearn.model_selection import train_test_split\n",
    "import gc"
   ]
  },
  {
   "cell_type": "code",
   "execution_count": 2,
   "metadata": {},
   "outputs": [
    {
     "name": "stderr",
     "output_type": "stream",
     "text": [
      "C:\\Users\\zhav1k\\Anaconda3\\lib\\site-packages\\IPython\\core\\interactiveshell.py:2785: DtypeWarning: Columns (1,3) have mixed types. Specify dtype option on import or set low_memory=False.\n",
      "  interactivity=interactivity, compiler=compiler, result=result)\n"
     ]
    }
   ],
   "source": [
    "df_md = pd.read_csv('for_cloud.csv')\n",
    "df_stockwatch = pd.read_csv('merged_data_stockwatch.csv')\n",
    "df_reut = pd.read_csv('own_data_test_sentiments.csv')\n",
    "\n",
    "tickers = pd.read_csv('../constituents_csv.csv')\n",
    "tickers = tickers.rename(index = str, columns = {'Symbol': 'ticker'})"
   ]
  },
  {
   "cell_type": "code",
   "execution_count": 3,
   "metadata": {},
   "outputs": [],
   "source": [
    "df_md['shifted_close'] = df_md.groupby('ticker')['Close'].shift(-1)\n",
    "df_md['tgt'] = (df_md.shifted_close - df_md.Close).div(df_md.shifted_close) * 100\n",
    "df_md['target'] = 0\n",
    "df_md.loc[(df_md['tgt'] >= 0), 'target'] = 1\n",
    "df_md.loc[(df_md['tgt'] < 0), 'target'] = 0\n",
    "df_md.drop([ 'Sector', 'shifted_close', 'tgt'], axis = 1 , inplace = True)"
   ]
  },
  {
   "cell_type": "code",
   "execution_count": 4,
   "metadata": {},
   "outputs": [],
   "source": [
    "df_stockwatch['Date'] = pd.to_datetime(df_stockwatch['Date'])\n",
    "df_stockwatch['Date'] = df_stockwatch['Date'].dt.date\n",
    "\n",
    "df_md['Date'] = pd.to_datetime(df_md['Date'])\n",
    "df_md['Date'] = df_md['Date'].dt.date\n",
    "\n",
    "df_reut['Date'] = pd.to_datetime(df_reut['Date'])\n",
    "df_reut['Date'] = df_reut['Date'].dt.date\n",
    "\n",
    "df_reut = pd.merge(df_reut, tickers, how = 'left', on = 'Name')"
   ]
  },
  {
   "cell_type": "code",
   "execution_count": 5,
   "metadata": {},
   "outputs": [
    {
     "data": {
      "text/plain": [
       "(887405, 6)"
      ]
     },
     "execution_count": 5,
     "metadata": {},
     "output_type": "execute_result"
    }
   ],
   "source": [
    "df_reut.shape"
   ]
  },
  {
   "cell_type": "code",
   "execution_count": 7,
   "metadata": {},
   "outputs": [
    {
     "data": {
      "text/plain": [
       "(279876, 3)"
      ]
     },
     "execution_count": 7,
     "metadata": {},
     "output_type": "execute_result"
    }
   ],
   "source": [
    "df_stockwatch.shape"
   ]
  },
  {
   "cell_type": "code",
   "execution_count": 41,
   "metadata": {},
   "outputs": [],
   "source": [
    "df_reut.drop(['Sname', 'Name', 'Sector'], axis = 1, inplace = True)\n",
    "fcols = ['Date', 'ticker', 'title']\n",
    "df_reut = df_reut[fcols]"
   ]
  },
  {
   "cell_type": "code",
   "execution_count": 42,
   "metadata": {},
   "outputs": [],
   "source": [
    "df_news = pd.concat([df_reut, df_stockwatch], axis = 0)"
   ]
  },
  {
   "cell_type": "code",
   "execution_count": 43,
   "metadata": {},
   "outputs": [],
   "source": [
    "df_gen = pd.merge(df_md,df_news,on=['ticker', 'Date'], how = 'left')"
   ]
  },
  {
   "cell_type": "code",
   "execution_count": 44,
   "metadata": {},
   "outputs": [],
   "source": [
    "df_gen1 = df_gen[df_gen['title'].notnull()]\n",
    "\n",
    "df_gen1 = pd.DataFrame(df_gen1.groupby(['ticker', 'Date'])['title'].agg(lambda col: ' '.join(col)))\n",
    "df_gen1 = df_gen1.reset_index()"
   ]
  },
  {
   "cell_type": "code",
   "execution_count": 45,
   "metadata": {},
   "outputs": [],
   "source": [
    "to_join = pd.DataFrame(df_gen.groupby(['ticker', 'Date'])['target'].max())\n",
    "to_join = to_join.reset_index()"
   ]
  },
  {
   "cell_type": "code",
   "execution_count": 46,
   "metadata": {},
   "outputs": [],
   "source": [
    "merged = pd.merge(df_gen1, to_join, on = ['ticker', 'Date'], how = 'left')"
   ]
  },
  {
   "cell_type": "code",
   "execution_count": 51,
   "metadata": {},
   "outputs": [],
   "source": [
    "merged = merged.reset_index()\n",
    "merged.drop(['ticker', 'Date', 'target'], axis = 1, inplace =True)"
   ]
  },
  {
   "cell_type": "code",
   "execution_count": 52,
   "metadata": {},
   "outputs": [],
   "source": [
    "merged.to_csv('data_sentiments/test.tsv', sep='\\t', index=False, header=True)"
   ]
  },
  {
   "cell_type": "code",
   "execution_count": null,
   "metadata": {},
   "outputs": [],
   "source": []
  }
 ],
 "metadata": {
  "kernelspec": {
   "display_name": "Python 3",
   "language": "python",
   "name": "python3"
  },
  "language_info": {
   "codemirror_mode": {
    "name": "ipython",
    "version": 3
   },
   "file_extension": ".py",
   "mimetype": "text/x-python",
   "name": "python",
   "nbconvert_exporter": "python",
   "pygments_lexer": "ipython3",
   "version": "3.6.5"
  }
 },
 "nbformat": 4,
 "nbformat_minor": 2
}
