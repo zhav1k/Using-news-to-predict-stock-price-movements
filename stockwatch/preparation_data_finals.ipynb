{
 "cells": [
  {
   "cell_type": "markdown",
   "metadata": {},
   "source": [
    "# Stockwatch"
   ]
  },
  {
   "cell_type": "code",
   "execution_count": 136,
   "metadata": {},
   "outputs": [],
   "source": [
    "import pandas as pd\n",
    "import numpy as np\n",
    "from sklearn.model_selection import train_test_split\n",
    "import gc\n",
    "import re"
   ]
  },
  {
   "cell_type": "code",
   "execution_count": 137,
   "metadata": {},
   "outputs": [],
   "source": [
    "df_md = pd.read_csv('for_cloud.csv')\n",
    "df_stockwatch = pd.read_csv('merged_data_stockwatch.csv')"
   ]
  },
  {
   "cell_type": "code",
   "execution_count": 138,
   "metadata": {},
   "outputs": [],
   "source": [
    "df_md['shifted_close'] = df_md.groupby('ticker')['Close'].shift(-1)\n",
    "df_md['tgt'] = (df_md.shifted_close - df_md.Close).div(df_md.shifted_close) * 100\n",
    "df_md['target'] = 0\n",
    "df_md.loc[(df_md['tgt'] >= 0), 'target'] = 1\n",
    "df_md.loc[(df_md['tgt'] < 0), 'target'] = 0\n",
    "df_md.drop([ 'Sector', 'shifted_close', 'tgt'], axis = 1 , inplace = True)"
   ]
  },
  {
   "cell_type": "code",
   "execution_count": 139,
   "metadata": {},
   "outputs": [
    {
     "data": {
      "text/html": [
       "<div>\n",
       "<style scoped>\n",
       "    .dataframe tbody tr th:only-of-type {\n",
       "        vertical-align: middle;\n",
       "    }\n",
       "\n",
       "    .dataframe tbody tr th {\n",
       "        vertical-align: top;\n",
       "    }\n",
       "\n",
       "    .dataframe thead th {\n",
       "        text-align: right;\n",
       "    }\n",
       "</style>\n",
       "<table border=\"1\" class=\"dataframe\">\n",
       "  <thead>\n",
       "    <tr style=\"text-align: right;\">\n",
       "      <th></th>\n",
       "      <th>Date</th>\n",
       "      <th>ticker</th>\n",
       "      <th>title</th>\n",
       "    </tr>\n",
       "  </thead>\n",
       "  <tbody>\n",
       "    <tr>\n",
       "      <th>0</th>\n",
       "      <td>2018-12-19 06:30</td>\n",
       "      <td>MMM</td>\n",
       "      <td>3M to Acquire M*Modal ’s Technology Business</td>\n",
       "    </tr>\n",
       "    <tr>\n",
       "      <th>1</th>\n",
       "      <td>2018-12-05 02:00</td>\n",
       "      <td>MMM</td>\n",
       "      <td>3M Announces Formal Requirement at COP24 for A...</td>\n",
       "    </tr>\n",
       "    <tr>\n",
       "      <th>2</th>\n",
       "      <td>2018-11-20 13:32</td>\n",
       "      <td>MMM</td>\n",
       "      <td>3M Announces Upcoming Investor Events</td>\n",
       "    </tr>\n",
       "    <tr>\n",
       "      <th>3</th>\n",
       "      <td>2018-11-15 13:56</td>\n",
       "      <td>MMM</td>\n",
       "      <td>3M Responding to California Wildfires with N95...</td>\n",
       "    </tr>\n",
       "    <tr>\n",
       "      <th>4</th>\n",
       "      <td>2018-11-15 06:30</td>\n",
       "      <td>MMM</td>\n",
       "      <td>3M CEO Introduces Priorities for the Future, S...</td>\n",
       "    </tr>\n",
       "  </tbody>\n",
       "</table>\n",
       "</div>"
      ],
      "text/plain": [
       "               Date ticker                                              title\n",
       "0  2018-12-19 06:30    MMM       3M to Acquire M*Modal ’s Technology Business\n",
       "1  2018-12-05 02:00    MMM  3M Announces Formal Requirement at COP24 for A...\n",
       "2  2018-11-20 13:32    MMM              3M Announces Upcoming Investor Events\n",
       "3  2018-11-15 13:56    MMM  3M Responding to California Wildfires with N95...\n",
       "4  2018-11-15 06:30    MMM  3M CEO Introduces Priorities for the Future, S..."
      ]
     },
     "execution_count": 139,
     "metadata": {},
     "output_type": "execute_result"
    }
   ],
   "source": [
    "df_stockwatch.head()"
   ]
  },
  {
   "cell_type": "code",
   "execution_count": 140,
   "metadata": {},
   "outputs": [],
   "source": [
    "df_stockwatch['Date'] = pd.to_datetime(df_stockwatch['Date'])\n",
    "df_stockwatch['Date'] = df_stockwatch['Date'].dt.date\n",
    "df_md['Date'] = pd.to_datetime(df_md['Date'])\n",
    "df_md['Date'] = df_md['Date'].dt.date"
   ]
  },
  {
   "cell_type": "code",
   "execution_count": 141,
   "metadata": {},
   "outputs": [],
   "source": [
    "res = pd.merge(df_md, df_stockwatch, on = ['ticker', 'Date'], how = 'left')"
   ]
  },
  {
   "cell_type": "code",
   "execution_count": 142,
   "metadata": {},
   "outputs": [
    {
     "data": {
      "text/plain": [
       "1047086"
      ]
     },
     "execution_count": 142,
     "metadata": {},
     "output_type": "execute_result"
    }
   ],
   "source": [
    "res['title'].isna().sum()"
   ]
  },
  {
   "cell_type": "code",
   "execution_count": 143,
   "metadata": {},
   "outputs": [
    {
     "data": {
      "text/html": [
       "<div>\n",
       "<style scoped>\n",
       "    .dataframe tbody tr th:only-of-type {\n",
       "        vertical-align: middle;\n",
       "    }\n",
       "\n",
       "    .dataframe tbody tr th {\n",
       "        vertical-align: top;\n",
       "    }\n",
       "\n",
       "    .dataframe thead th {\n",
       "        text-align: right;\n",
       "    }\n",
       "</style>\n",
       "<table border=\"1\" class=\"dataframe\">\n",
       "  <thead>\n",
       "    <tr style=\"text-align: right;\">\n",
       "      <th></th>\n",
       "      <th>ticker</th>\n",
       "      <th>Date</th>\n",
       "      <th>Adj Close</th>\n",
       "      <th>Close</th>\n",
       "      <th>High</th>\n",
       "      <th>Low</th>\n",
       "      <th>Open</th>\n",
       "      <th>Volume</th>\n",
       "      <th>Name</th>\n",
       "      <th>target</th>\n",
       "      <th>title</th>\n",
       "    </tr>\n",
       "  </thead>\n",
       "  <tbody>\n",
       "    <tr>\n",
       "      <th>0</th>\n",
       "      <td>AAL</td>\n",
       "      <td>2008-12-31</td>\n",
       "      <td>7.405228</td>\n",
       "      <td>7.73</td>\n",
       "      <td>7.87</td>\n",
       "      <td>7.48</td>\n",
       "      <td>7.48</td>\n",
       "      <td>4194100.0</td>\n",
       "      <td>American Airlines Group</td>\n",
       "      <td>1</td>\n",
       "      <td>NaN</td>\n",
       "    </tr>\n",
       "    <tr>\n",
       "      <th>1</th>\n",
       "      <td>AAL</td>\n",
       "      <td>2009-01-02</td>\n",
       "      <td>8.037499</td>\n",
       "      <td>8.39</td>\n",
       "      <td>8.48</td>\n",
       "      <td>7.67</td>\n",
       "      <td>7.73</td>\n",
       "      <td>5167000.0</td>\n",
       "      <td>American Airlines Group</td>\n",
       "      <td>0</td>\n",
       "      <td>NaN</td>\n",
       "    </tr>\n",
       "    <tr>\n",
       "      <th>2</th>\n",
       "      <td>AAL</td>\n",
       "      <td>2009-01-05</td>\n",
       "      <td>7.980019</td>\n",
       "      <td>8.33</td>\n",
       "      <td>8.39</td>\n",
       "      <td>7.96</td>\n",
       "      <td>8.38</td>\n",
       "      <td>3457100.0</td>\n",
       "      <td>American Airlines Group</td>\n",
       "      <td>1</td>\n",
       "      <td>NaN</td>\n",
       "    </tr>\n",
       "    <tr>\n",
       "      <th>3</th>\n",
       "      <td>AAL</td>\n",
       "      <td>2009-01-06</td>\n",
       "      <td>8.679349</td>\n",
       "      <td>9.06</td>\n",
       "      <td>9.21</td>\n",
       "      <td>8.13</td>\n",
       "      <td>8.15</td>\n",
       "      <td>5731000.0</td>\n",
       "      <td>American Airlines Group</td>\n",
       "      <td>1</td>\n",
       "      <td>NaN</td>\n",
       "    </tr>\n",
       "    <tr>\n",
       "      <th>4</th>\n",
       "      <td>AAL</td>\n",
       "      <td>2009-01-07</td>\n",
       "      <td>8.698509</td>\n",
       "      <td>9.08</td>\n",
       "      <td>9.47</td>\n",
       "      <td>8.66</td>\n",
       "      <td>8.66</td>\n",
       "      <td>5468900.0</td>\n",
       "      <td>American Airlines Group</td>\n",
       "      <td>1</td>\n",
       "      <td>NaN</td>\n",
       "    </tr>\n",
       "  </tbody>\n",
       "</table>\n",
       "</div>"
      ],
      "text/plain": [
       "  ticker        Date  Adj Close  Close  High   Low  Open     Volume  \\\n",
       "0    AAL  2008-12-31   7.405228   7.73  7.87  7.48  7.48  4194100.0   \n",
       "1    AAL  2009-01-02   8.037499   8.39  8.48  7.67  7.73  5167000.0   \n",
       "2    AAL  2009-01-05   7.980019   8.33  8.39  7.96  8.38  3457100.0   \n",
       "3    AAL  2009-01-06   8.679349   9.06  9.21  8.13  8.15  5731000.0   \n",
       "4    AAL  2009-01-07   8.698509   9.08  9.47  8.66  8.66  5468900.0   \n",
       "\n",
       "                      Name  target title  \n",
       "0  American Airlines Group       1   NaN  \n",
       "1  American Airlines Group       0   NaN  \n",
       "2  American Airlines Group       1   NaN  \n",
       "3  American Airlines Group       1   NaN  \n",
       "4  American Airlines Group       1   NaN  "
      ]
     },
     "execution_count": 143,
     "metadata": {},
     "output_type": "execute_result"
    }
   ],
   "source": [
    "res.head()"
   ]
  },
  {
   "cell_type": "code",
   "execution_count": 144,
   "metadata": {},
   "outputs": [],
   "source": [
    "stockwatch_not_null = res[res['title'].notnull()]\n",
    "fcls = ['index', 'label','alpha','title']"
   ]
  },
  {
   "cell_type": "code",
   "execution_count": 145,
   "metadata": {},
   "outputs": [],
   "source": [
    "stockwatch_not_null = stockwatch_not_null.loc[:, ['title', 'target']]\n",
    "stockwatch_not_null['index'] = stockwatch_not_null.index\n",
    "stockwatch_not_null['alpha'] = 'a'\n",
    "stockwatch_not_null.rename(index = str, columns = {'target': 'label'}, inplace = True)\n",
    "stockwatch_not_null = stockwatch_not_null[fcls]"
   ]
  },
  {
   "cell_type": "code",
   "execution_count": 146,
   "metadata": {},
   "outputs": [
    {
     "data": {
      "text/plain": [
       "(259928, 4)"
      ]
     },
     "execution_count": 146,
     "metadata": {},
     "output_type": "execute_result"
    }
   ],
   "source": [
    "stockwatch_not_null.shape"
   ]
  },
  {
   "cell_type": "code",
   "execution_count": 147,
   "metadata": {},
   "outputs": [
    {
     "data": {
      "text/plain": [
       "12996.400000000001"
      ]
     },
     "execution_count": 147,
     "metadata": {},
     "output_type": "execute_result"
    }
   ],
   "source": [
    "stockwatch_not_null.shape[0] * 0.05"
   ]
  },
  {
   "cell_type": "code",
   "execution_count": 148,
   "metadata": {},
   "outputs": [
    {
     "data": {
      "text/html": [
       "<div>\n",
       "<style scoped>\n",
       "    .dataframe tbody tr th:only-of-type {\n",
       "        vertical-align: middle;\n",
       "    }\n",
       "\n",
       "    .dataframe tbody tr th {\n",
       "        vertical-align: top;\n",
       "    }\n",
       "\n",
       "    .dataframe thead th {\n",
       "        text-align: right;\n",
       "    }\n",
       "</style>\n",
       "<table border=\"1\" class=\"dataframe\">\n",
       "  <thead>\n",
       "    <tr style=\"text-align: right;\">\n",
       "      <th></th>\n",
       "      <th>index</th>\n",
       "      <th>label</th>\n",
       "      <th>alpha</th>\n",
       "      <th>title</th>\n",
       "    </tr>\n",
       "  </thead>\n",
       "  <tbody>\n",
       "    <tr>\n",
       "      <th>119</th>\n",
       "      <td>119</td>\n",
       "      <td>0</td>\n",
       "      <td>a</td>\n",
       "      <td>Anglo American's Coal Division in South Africa...</td>\n",
       "    </tr>\n",
       "    <tr>\n",
       "      <th>137</th>\n",
       "      <td>137</td>\n",
       "      <td>0</td>\n",
       "      <td>a</td>\n",
       "      <td>Anglo American Introduces Sir John Parker as C...</td>\n",
       "    </tr>\n",
       "    <tr>\n",
       "      <th>146</th>\n",
       "      <td>146</td>\n",
       "      <td>0</td>\n",
       "      <td>a</td>\n",
       "      <td>Anglo American CEO Interviewed on 2009 Interim...</td>\n",
       "    </tr>\n",
       "    <tr>\n",
       "      <th>285</th>\n",
       "      <td>285</td>\n",
       "      <td>1</td>\n",
       "      <td>a</td>\n",
       "      <td>Anglo American Announces Operating Profit Of $...</td>\n",
       "    </tr>\n",
       "    <tr>\n",
       "      <th>397</th>\n",
       "      <td>397</td>\n",
       "      <td>0</td>\n",
       "      <td>a</td>\n",
       "      <td>Anglo American CEO Cynthia Carroll Interviewed...</td>\n",
       "    </tr>\n",
       "  </tbody>\n",
       "</table>\n",
       "</div>"
      ],
      "text/plain": [
       "     index  label alpha                                              title\n",
       "119    119      0     a  Anglo American's Coal Division in South Africa...\n",
       "137    137      0     a  Anglo American Introduces Sir John Parker as C...\n",
       "146    146      0     a  Anglo American CEO Interviewed on 2009 Interim...\n",
       "285    285      1     a  Anglo American Announces Operating Profit Of $...\n",
       "397    397      0     a  Anglo American CEO Cynthia Carroll Interviewed..."
      ]
     },
     "execution_count": 148,
     "metadata": {},
     "output_type": "execute_result"
    }
   ],
   "source": [
    "stockwatch_not_null.head()"
   ]
  },
  {
   "cell_type": "code",
   "execution_count": 149,
   "metadata": {},
   "outputs": [],
   "source": [
    "X_train, X_test, y_train, y_test = train_test_split(stockwatch_not_null, stockwatch_not_null['label'], test_size = 0.99, random_state= 1337, stratify = stockwatch_not_null['label']  )\n",
    "X_train, X_test, y_train, y_test = train_test_split(X_test, X_test['label'], test_size = 0.1, random_state= 1337, stratify = X_test['label'])\n",
    "\n",
    "#here I need final X_train, X_test(val)"
   ]
  },
  {
   "cell_type": "code",
   "execution_count": null,
   "metadata": {},
   "outputs": [],
   "source": []
  },
  {
   "cell_type": "code",
   "execution_count": 152,
   "metadata": {},
   "outputs": [],
   "source": [
    "stockwatch_not_null.drop(['label', 'alpha'], axis = 1, inplace = True)"
   ]
  },
  {
   "cell_type": "code",
   "execution_count": 153,
   "metadata": {},
   "outputs": [],
   "source": [
    "X_train.to_csv('data_stockwatch_final_preds/train.tsv', sep='\\t', index=False, header=False)\n",
    "X_test.to_csv('data_stockwatch_final_preds/dev.tsv', sep='\\t', index=False, header=False)\n",
    "stockwatch_not_null.to_csv('data_stockwatch_final_preds/test.tsv', sep='\\t', index=False, header=True)"
   ]
  },
  {
   "cell_type": "code",
   "execution_count": null,
   "metadata": {},
   "outputs": [],
   "source": []
  },
  {
   "cell_type": "code",
   "execution_count": null,
   "metadata": {},
   "outputs": [],
   "source": []
  },
  {
   "cell_type": "code",
   "execution_count": null,
   "metadata": {},
   "outputs": [],
   "source": []
  },
  {
   "cell_type": "markdown",
   "metadata": {},
   "source": [
    "# Reuters"
   ]
  },
  {
   "cell_type": "code",
   "execution_count": 15,
   "metadata": {},
   "outputs": [
    {
     "name": "stderr",
     "output_type": "stream",
     "text": [
      "C:\\Users\\zhav1k\\Anaconda3\\lib\\site-packages\\IPython\\core\\interactiveshell.py:2785: DtypeWarning: Columns (1,3) have mixed types. Specify dtype option on import or set low_memory=False.\n",
      "  interactivity=interactivity, compiler=compiler, result=result)\n"
     ]
    }
   ],
   "source": [
    "import pandas as pd\n",
    "df_md = pd.read_csv('for_cloud.csv')\n",
    "#df_reut = pd.read_csv('full_sentiment_news-1201.csv')\n",
    "df_reut = pd.read_csv('own_data_test_sentiments.csv')\n",
    "\n",
    "tickers = pd.read_csv('../constituents_csv.csv')\n",
    "tickers = tickers.rename(index = str, columns = {'Symbol': 'ticker'})"
   ]
  },
  {
   "cell_type": "code",
   "execution_count": 16,
   "metadata": {},
   "outputs": [],
   "source": [
    "df_md['shifted_close'] = df_md.groupby('ticker')['Close'].shift(-1)\n",
    "df_md['tgt'] = (df_md.shifted_close - df_md.Close).div(df_md.shifted_close) * 100\n",
    "df_md['target'] = 0\n",
    "df_md.loc[(df_md['tgt'] >= 0), 'target'] = 1\n",
    "df_md.loc[(df_md['tgt'] < 0), 'target'] = 0\n",
    "df_md.drop([ 'Sector', 'shifted_close', 'tgt'], axis = 1 , inplace = True)"
   ]
  },
  {
   "cell_type": "code",
   "execution_count": 17,
   "metadata": {},
   "outputs": [
    {
     "data": {
      "text/html": [
       "<div>\n",
       "<style scoped>\n",
       "    .dataframe tbody tr th:only-of-type {\n",
       "        vertical-align: middle;\n",
       "    }\n",
       "\n",
       "    .dataframe tbody tr th {\n",
       "        vertical-align: top;\n",
       "    }\n",
       "\n",
       "    .dataframe thead th {\n",
       "        text-align: right;\n",
       "    }\n",
       "</style>\n",
       "<table border=\"1\" class=\"dataframe\">\n",
       "  <thead>\n",
       "    <tr style=\"text-align: right;\">\n",
       "      <th></th>\n",
       "      <th>Date</th>\n",
       "      <th>Sname</th>\n",
       "      <th>title</th>\n",
       "      <th>Name</th>\n",
       "    </tr>\n",
       "  </thead>\n",
       "  <tbody>\n",
       "    <tr>\n",
       "      <th>0</th>\n",
       "      <td>2009-01-05</td>\n",
       "      <td>American Airlines</td>\n",
       "      <td>American Airlines Reports December Traffic</td>\n",
       "      <td>American Airlines Group</td>\n",
       "    </tr>\n",
       "    <tr>\n",
       "      <th>1</th>\n",
       "      <td>2009-01-06</td>\n",
       "      <td>American Airlines</td>\n",
       "      <td>Allied Pilots Association Critical of American...</td>\n",
       "      <td>American Airlines Group</td>\n",
       "    </tr>\n",
       "    <tr>\n",
       "      <th>2</th>\n",
       "      <td>2009-01-12</td>\n",
       "      <td>American Airlines</td>\n",
       "      <td>American Airlines Starts the New Year Right Wi...</td>\n",
       "      <td>American Airlines Group</td>\n",
       "    </tr>\n",
       "    <tr>\n",
       "      <th>3</th>\n",
       "      <td>2009-01-15</td>\n",
       "      <td>American Airlines</td>\n",
       "      <td>American Airlines Launches Newly Redesigned, M...</td>\n",
       "      <td>American Airlines Group</td>\n",
       "    </tr>\n",
       "    <tr>\n",
       "      <th>4</th>\n",
       "      <td>2009-01-16</td>\n",
       "      <td>American Airlines</td>\n",
       "      <td>American Airlines and Association of Professio...</td>\n",
       "      <td>American Airlines Group</td>\n",
       "    </tr>\n",
       "  </tbody>\n",
       "</table>\n",
       "</div>"
      ],
      "text/plain": [
       "         Date              Sname  \\\n",
       "0  2009-01-05  American Airlines   \n",
       "1  2009-01-06  American Airlines   \n",
       "2  2009-01-12  American Airlines   \n",
       "3  2009-01-15  American Airlines   \n",
       "4  2009-01-16  American Airlines   \n",
       "\n",
       "                                               title                     Name  \n",
       "0         American Airlines Reports December Traffic  American Airlines Group  \n",
       "1  Allied Pilots Association Critical of American...  American Airlines Group  \n",
       "2  American Airlines Starts the New Year Right Wi...  American Airlines Group  \n",
       "3  American Airlines Launches Newly Redesigned, M...  American Airlines Group  \n",
       "4  American Airlines and Association of Professio...  American Airlines Group  "
      ]
     },
     "execution_count": 17,
     "metadata": {},
     "output_type": "execute_result"
    }
   ],
   "source": [
    "df_reut.head()"
   ]
  },
  {
   "cell_type": "code",
   "execution_count": 18,
   "metadata": {},
   "outputs": [],
   "source": [
    "data = pd.merge(df_reut, tickers, how = 'left', on = 'Name')"
   ]
  },
  {
   "cell_type": "code",
   "execution_count": 19,
   "metadata": {},
   "outputs": [],
   "source": [
    "df_reut['Date'] = pd.to_datetime(df_reut['Date'])\n",
    "df_reut['Date'] = df_reut['Date'].dt.date\n",
    "df_md['Date'] = pd.to_datetime(df_md['Date'])\n",
    "df_md['Date'] = df_md['Date'].dt.date"
   ]
  },
  {
   "cell_type": "code",
   "execution_count": 20,
   "metadata": {},
   "outputs": [],
   "source": [
    "res1 = pd.merge(df_md, df_reut, on = ['Name', 'Date'], how = 'left')"
   ]
  },
  {
   "cell_type": "code",
   "execution_count": 21,
   "metadata": {},
   "outputs": [
    {
     "data": {
      "text/plain": [
       "994813"
      ]
     },
     "execution_count": 21,
     "metadata": {},
     "output_type": "execute_result"
    }
   ],
   "source": [
    "res1['title'].isna().sum()"
   ]
  },
  {
   "cell_type": "code",
   "execution_count": 22,
   "metadata": {},
   "outputs": [
    {
     "name": "stdout",
     "output_type": "stream",
     "text": [
      "2008-12-31 2018-10-09\n"
     ]
    }
   ],
   "source": [
    "print(df_reut.Date.min(), df_reut.Date.max())"
   ]
  },
  {
   "cell_type": "code",
   "execution_count": 23,
   "metadata": {},
   "outputs": [
    {
     "name": "stdout",
     "output_type": "stream",
     "text": [
      "2008-12-31 2018-11-09\n"
     ]
    }
   ],
   "source": [
    "print(df_md.Date.min(), df_md.Date.max())"
   ]
  },
  {
   "cell_type": "code",
   "execution_count": 24,
   "metadata": {},
   "outputs": [
    {
     "data": {
      "text/html": [
       "<div>\n",
       "<style scoped>\n",
       "    .dataframe tbody tr th:only-of-type {\n",
       "        vertical-align: middle;\n",
       "    }\n",
       "\n",
       "    .dataframe tbody tr th {\n",
       "        vertical-align: top;\n",
       "    }\n",
       "\n",
       "    .dataframe thead th {\n",
       "        text-align: right;\n",
       "    }\n",
       "</style>\n",
       "<table border=\"1\" class=\"dataframe\">\n",
       "  <thead>\n",
       "    <tr style=\"text-align: right;\">\n",
       "      <th></th>\n",
       "      <th>ticker</th>\n",
       "      <th>Date</th>\n",
       "      <th>Adj Close</th>\n",
       "      <th>Close</th>\n",
       "      <th>High</th>\n",
       "      <th>Low</th>\n",
       "      <th>Open</th>\n",
       "      <th>Volume</th>\n",
       "      <th>Name</th>\n",
       "      <th>target</th>\n",
       "      <th>Sname</th>\n",
       "      <th>title</th>\n",
       "    </tr>\n",
       "  </thead>\n",
       "  <tbody>\n",
       "    <tr>\n",
       "      <th>0</th>\n",
       "      <td>AAL</td>\n",
       "      <td>2008-12-31</td>\n",
       "      <td>7.405228</td>\n",
       "      <td>7.73</td>\n",
       "      <td>7.87</td>\n",
       "      <td>7.48</td>\n",
       "      <td>7.48</td>\n",
       "      <td>4194100.0</td>\n",
       "      <td>American Airlines Group</td>\n",
       "      <td>1</td>\n",
       "      <td>NaN</td>\n",
       "      <td>NaN</td>\n",
       "    </tr>\n",
       "    <tr>\n",
       "      <th>1</th>\n",
       "      <td>AAL</td>\n",
       "      <td>2009-01-02</td>\n",
       "      <td>8.037499</td>\n",
       "      <td>8.39</td>\n",
       "      <td>8.48</td>\n",
       "      <td>7.67</td>\n",
       "      <td>7.73</td>\n",
       "      <td>5167000.0</td>\n",
       "      <td>American Airlines Group</td>\n",
       "      <td>0</td>\n",
       "      <td>NaN</td>\n",
       "      <td>NaN</td>\n",
       "    </tr>\n",
       "    <tr>\n",
       "      <th>2</th>\n",
       "      <td>AAL</td>\n",
       "      <td>2009-01-05</td>\n",
       "      <td>7.980019</td>\n",
       "      <td>8.33</td>\n",
       "      <td>8.39</td>\n",
       "      <td>7.96</td>\n",
       "      <td>8.38</td>\n",
       "      <td>3457100.0</td>\n",
       "      <td>American Airlines Group</td>\n",
       "      <td>1</td>\n",
       "      <td>American Airlines</td>\n",
       "      <td>American Airlines Reports December Traffic</td>\n",
       "    </tr>\n",
       "    <tr>\n",
       "      <th>3</th>\n",
       "      <td>AAL</td>\n",
       "      <td>2009-01-06</td>\n",
       "      <td>8.679349</td>\n",
       "      <td>9.06</td>\n",
       "      <td>9.21</td>\n",
       "      <td>8.13</td>\n",
       "      <td>8.15</td>\n",
       "      <td>5731000.0</td>\n",
       "      <td>American Airlines Group</td>\n",
       "      <td>1</td>\n",
       "      <td>American Airlines</td>\n",
       "      <td>Allied Pilots Association Critical of American...</td>\n",
       "    </tr>\n",
       "    <tr>\n",
       "      <th>4</th>\n",
       "      <td>AAL</td>\n",
       "      <td>2009-01-07</td>\n",
       "      <td>8.698509</td>\n",
       "      <td>9.08</td>\n",
       "      <td>9.47</td>\n",
       "      <td>8.66</td>\n",
       "      <td>8.66</td>\n",
       "      <td>5468900.0</td>\n",
       "      <td>American Airlines Group</td>\n",
       "      <td>1</td>\n",
       "      <td>NaN</td>\n",
       "      <td>NaN</td>\n",
       "    </tr>\n",
       "  </tbody>\n",
       "</table>\n",
       "</div>"
      ],
      "text/plain": [
       "  ticker        Date  Adj Close  Close  High   Low  Open     Volume  \\\n",
       "0    AAL  2008-12-31   7.405228   7.73  7.87  7.48  7.48  4194100.0   \n",
       "1    AAL  2009-01-02   8.037499   8.39  8.48  7.67  7.73  5167000.0   \n",
       "2    AAL  2009-01-05   7.980019   8.33  8.39  7.96  8.38  3457100.0   \n",
       "3    AAL  2009-01-06   8.679349   9.06  9.21  8.13  8.15  5731000.0   \n",
       "4    AAL  2009-01-07   8.698509   9.08  9.47  8.66  8.66  5468900.0   \n",
       "\n",
       "                      Name  target              Sname  \\\n",
       "0  American Airlines Group       1                NaN   \n",
       "1  American Airlines Group       0                NaN   \n",
       "2  American Airlines Group       1  American Airlines   \n",
       "3  American Airlines Group       1  American Airlines   \n",
       "4  American Airlines Group       1                NaN   \n",
       "\n",
       "                                               title  \n",
       "0                                                NaN  \n",
       "1                                                NaN  \n",
       "2         American Airlines Reports December Traffic  \n",
       "3  Allied Pilots Association Critical of American...  \n",
       "4                                                NaN  "
      ]
     },
     "execution_count": 24,
     "metadata": {},
     "output_type": "execute_result"
    }
   ],
   "source": [
    "res1.head()"
   ]
  },
  {
   "cell_type": "code",
   "execution_count": 25,
   "metadata": {},
   "outputs": [],
   "source": [
    "#rnt.columns"
   ]
  },
  {
   "cell_type": "code",
   "execution_count": 26,
   "metadata": {},
   "outputs": [],
   "source": [
    "rnt = res1[res1['title'].notnull()]\n",
    "\n",
    "rnt_test = pd.DataFrame(rnt.groupby(['ticker', 'Date'])['title'].agg(lambda col: ' '.join(col)))\n",
    "rnt_test = rnt_test.reset_index()"
   ]
  },
  {
   "cell_type": "code",
   "execution_count": 27,
   "metadata": {},
   "outputs": [],
   "source": [
    "to_join = pd.DataFrame(rnt.groupby(['ticker', 'Date'])['target'].max())\n",
    "to_join = to_join.reset_index()"
   ]
  },
  {
   "cell_type": "code",
   "execution_count": 28,
   "metadata": {},
   "outputs": [],
   "source": [
    "merged = pd.merge(rnt_test, to_join, on = ['ticker', 'Date'], how = 'left')"
   ]
  },
  {
   "cell_type": "code",
   "execution_count": 29,
   "metadata": {},
   "outputs": [],
   "source": [
    "merged = merged.reset_index()"
   ]
  },
  {
   "cell_type": "code",
   "execution_count": 30,
   "metadata": {},
   "outputs": [],
   "source": [
    "merged['alpha'] = 'a'"
   ]
  },
  {
   "cell_type": "code",
   "execution_count": 31,
   "metadata": {},
   "outputs": [],
   "source": [
    "fcls = ['index', 'label','alpha','title']"
   ]
  },
  {
   "cell_type": "code",
   "execution_count": 32,
   "metadata": {},
   "outputs": [],
   "source": [
    "merged = merged.loc[:, ['title', 'target']]\n",
    "merged['index'] = merged.index\n",
    "merged['alpha'] = 'a'\n",
    "merged.rename(index = str, columns = {'target': 'label'}, inplace = True)\n",
    "merged = merged[fcls]"
   ]
  },
  {
   "cell_type": "code",
   "execution_count": 33,
   "metadata": {},
   "outputs": [
    {
     "data": {
      "text/html": [
       "<div>\n",
       "<style scoped>\n",
       "    .dataframe tbody tr th:only-of-type {\n",
       "        vertical-align: middle;\n",
       "    }\n",
       "\n",
       "    .dataframe tbody tr th {\n",
       "        vertical-align: top;\n",
       "    }\n",
       "\n",
       "    .dataframe thead th {\n",
       "        text-align: right;\n",
       "    }\n",
       "</style>\n",
       "<table border=\"1\" class=\"dataframe\">\n",
       "  <thead>\n",
       "    <tr style=\"text-align: right;\">\n",
       "      <th></th>\n",
       "      <th>index</th>\n",
       "      <th>label</th>\n",
       "      <th>alpha</th>\n",
       "      <th>title</th>\n",
       "    </tr>\n",
       "  </thead>\n",
       "  <tbody>\n",
       "    <tr>\n",
       "      <th>0</th>\n",
       "      <td>0</td>\n",
       "      <td>1</td>\n",
       "      <td>a</td>\n",
       "      <td>Agilent Technologies Announces Upcoming Webcas...</td>\n",
       "    </tr>\n",
       "    <tr>\n",
       "      <th>1</th>\n",
       "      <td>1</td>\n",
       "      <td>0</td>\n",
       "      <td>a</td>\n",
       "      <td>TRADE NEWS: Agilent Technologies Adds Custom m...</td>\n",
       "    </tr>\n",
       "    <tr>\n",
       "      <th>2</th>\n",
       "      <td>2</td>\n",
       "      <td>1</td>\n",
       "      <td>a</td>\n",
       "      <td>TRADE NEWS: Agilent Technologies` New Solder P...</td>\n",
       "    </tr>\n",
       "    <tr>\n",
       "      <th>3</th>\n",
       "      <td>3</td>\n",
       "      <td>0</td>\n",
       "      <td>a</td>\n",
       "      <td>Hydrogen Adds Agilent Technologies` Electronic...</td>\n",
       "    </tr>\n",
       "    <tr>\n",
       "      <th>4</th>\n",
       "      <td>4</td>\n",
       "      <td>0</td>\n",
       "      <td>a</td>\n",
       "      <td>TRADE NEWS: Agilent Technologies Delivers Indu...</td>\n",
       "    </tr>\n",
       "  </tbody>\n",
       "</table>\n",
       "</div>"
      ],
      "text/plain": [
       "   index  label alpha                                              title\n",
       "0      0      1     a  Agilent Technologies Announces Upcoming Webcas...\n",
       "1      1      0     a  TRADE NEWS: Agilent Technologies Adds Custom m...\n",
       "2      2      1     a  TRADE NEWS: Agilent Technologies` New Solder P...\n",
       "3      3      0     a  Hydrogen Adds Agilent Technologies` Electronic...\n",
       "4      4      0     a  TRADE NEWS: Agilent Technologies Delivers Indu..."
      ]
     },
     "execution_count": 33,
     "metadata": {},
     "output_type": "execute_result"
    }
   ],
   "source": [
    "merged.head()"
   ]
  },
  {
   "cell_type": "code",
   "execution_count": 34,
   "metadata": {},
   "outputs": [
    {
     "data": {
      "text/plain": [
       "count    259607.000000\n",
       "mean          0.499840\n",
       "std           0.500001\n",
       "min           0.000000\n",
       "25%           0.000000\n",
       "50%           0.000000\n",
       "75%           1.000000\n",
       "max           1.000000\n",
       "Name: label, dtype: float64"
      ]
     },
     "execution_count": 34,
     "metadata": {},
     "output_type": "execute_result"
    }
   ],
   "source": [
    "merged['label'].describe()"
   ]
  },
  {
   "cell_type": "code",
   "execution_count": 132,
   "metadata": {},
   "outputs": [
    {
     "data": {
      "text/plain": [
       "311.52840000000003"
      ]
     },
     "execution_count": 132,
     "metadata": {},
     "output_type": "execute_result"
    }
   ],
   "source": [
    "merged.shape[0]*0.004 * 0.3"
   ]
  },
  {
   "cell_type": "code",
   "execution_count": 133,
   "metadata": {},
   "outputs": [],
   "source": [
    "X_train, X_test, y_train, y_test = train_test_split(merged, merged['label'], test_size = 0.004, random_state= 1337, stratify = merged['label']  )\n",
    "X_train, X_test, y_train, y_test = train_test_split(X_test, X_test['label'], test_size = 0.3, random_state= 1337, stratify = X_test['label'])\n",
    "\n",
    "#here I need final X_train, X_test(val)"
   ]
  },
  {
   "cell_type": "code",
   "execution_count": 134,
   "metadata": {},
   "outputs": [],
   "source": [
    "merged.drop(['label', 'alpha'], axis = 1, inplace = True)"
   ]
  },
  {
   "cell_type": "code",
   "execution_count": 135,
   "metadata": {},
   "outputs": [
    {
     "data": {
      "text/plain": [
       "(259607, 2)"
      ]
     },
     "execution_count": 135,
     "metadata": {},
     "output_type": "execute_result"
    }
   ],
   "source": [
    "merged.shape"
   ]
  },
  {
   "cell_type": "code",
   "execution_count": 136,
   "metadata": {},
   "outputs": [],
   "source": [
    "first_sub, second_sub, y_train, y_test = train_test_split(merged, merged['title'], test_size = 0.25, random_state= 1337)\n"
   ]
  },
  {
   "cell_type": "code",
   "execution_count": 137,
   "metadata": {},
   "outputs": [],
   "source": [
    "def cleanText(text):\n",
    "        \n",
    "    text = text.replace('\\\\n','')\n",
    "    text = text.replace('\\\\','')\n",
    "    #text = re.sub('\\[(.*?)\\]','',text) #removes [this one]\n",
    "    text = re.sub('(http:\\/\\/www\\.|https:\\/\\/www\\.|http:\\/\\/|https:\\/\\/)?[a-z0-9]+([\\-\\.]{1}[a-z0-9]+)*\\.[a-z]{2,5}(:[0-9]{1,5})?(\\/.*)?\\s',\n",
    "                ' __url__ ',text) #remove urls\n",
    "    #text = re.sub('\\'','',text)\n",
    "    #text = re.sub(r'\\d+', ' __number__ ', text) #replaces numbers\n",
    "    #text = re.sub('\\W', ' ', text)\n",
    "    text = re.sub(' +', ' ', text)\n",
    "    text = text.replace('\\t', '')\n",
    "    text = text.replace('\\n', '')\n",
    "    return text"
   ]
  },
  {
   "cell_type": "code",
   "execution_count": 138,
   "metadata": {},
   "outputs": [
    {
     "name": "stderr",
     "output_type": "stream",
     "text": [
      "C:\\Users\\zhav1k\\Anaconda3\\lib\\site-packages\\ipykernel_launcher.py:5: SettingWithCopyWarning: \n",
      "A value is trying to be set on a copy of a slice from a DataFrame.\n",
      "Try using .loc[row_indexer,col_indexer] = value instead\n",
      "\n",
      "See the caveats in the documentation: http://pandas.pydata.org/pandas-docs/stable/indexing.html#indexing-view-versus-copy\n",
      "  \"\"\"\n",
      "C:\\Users\\zhav1k\\Anaconda3\\lib\\site-packages\\ipykernel_launcher.py:6: SettingWithCopyWarning: \n",
      "A value is trying to be set on a copy of a slice from a DataFrame.\n",
      "Try using .loc[row_indexer,col_indexer] = value instead\n",
      "\n",
      "See the caveats in the documentation: http://pandas.pydata.org/pandas-docs/stable/indexing.html#indexing-view-versus-copy\n",
      "  \n"
     ]
    }
   ],
   "source": [
    "X_train['title'] = X_train['title'].apply(cleanText)\n",
    "X_test['title'] = X_test['title'].apply(cleanText)\n",
    "merged['title'] = merged['title'].apply(cleanText)\n",
    "\n",
    "first_sub['title'] = first_sub['title'].apply(cleanText)\n",
    "second_sub['title'] = second_sub['title'].apply(cleanText)"
   ]
  },
  {
   "cell_type": "code",
   "execution_count": null,
   "metadata": {},
   "outputs": [],
   "source": []
  },
  {
   "cell_type": "code",
   "execution_count": 139,
   "metadata": {},
   "outputs": [],
   "source": [
    "X_train.to_csv('data_reuters_final_preds/train.tsv', sep='\\t', index=False, header=False)\n",
    "X_test.to_csv('data_reuters_final_preds/dev.tsv', sep='\\t', index=False, header=False)\n",
    "merged.to_csv('data_reuters_final_preds/test_full.tsv', sep='\\t', index=False, header=True)\n",
    "first_sub.to_csv('data_reuters_final_preds/first_test.tsv', sep='\\t', index=False, header=True)\n",
    "second_sub.to_csv('data_reuters_final_preds/second_test.tsv', sep='\\t', index=False, header=True)"
   ]
  },
  {
   "cell_type": "code",
   "execution_count": 34,
   "metadata": {},
   "outputs": [],
   "source": [
    "df_results = pd.read_csv(\"data_reuters_final_preds/first_test.tsv\",sep=\"\\t\",header=0)\n",
    "df_results1 = pd.read_csv(\"data_reuters_final_preds/second_test.tsv\",sep=\"\\t\",header=0)"
   ]
  },
  {
   "cell_type": "code",
   "execution_count": 43,
   "metadata": {},
   "outputs": [],
   "source": [
    "df_results['length'] = df_results['title'].str.len()"
   ]
  },
  {
   "cell_type": "code",
   "execution_count": 45,
   "metadata": {},
   "outputs": [
    {
     "data": {
      "text/plain": [
       "34888"
      ]
     },
     "execution_count": 45,
     "metadata": {},
     "output_type": "execute_result"
    }
   ],
   "source": [
    "df_results['length'].max()"
   ]
  },
  {
   "cell_type": "code",
   "execution_count": null,
   "metadata": {},
   "outputs": [],
   "source": []
  },
  {
   "cell_type": "code",
   "execution_count": null,
   "metadata": {},
   "outputs": [],
   "source": []
  },
  {
   "cell_type": "markdown",
   "metadata": {},
   "source": [
    "# Reuters + Stockwatch. Sentiments"
   ]
  },
  {
   "cell_type": "code",
   "execution_count": 36,
   "metadata": {},
   "outputs": [],
   "source": [
    "import pandas as pd\n",
    "import numpy as np"
   ]
  },
  {
   "cell_type": "code",
   "execution_count": 37,
   "metadata": {},
   "outputs": [
    {
     "name": "stderr",
     "output_type": "stream",
     "text": [
      "C:\\Users\\zhav1k\\Anaconda3\\lib\\site-packages\\IPython\\core\\interactiveshell.py:2785: DtypeWarning: Columns (1,3) have mixed types. Specify dtype option on import or set low_memory=False.\n",
      "  interactivity=interactivity, compiler=compiler, result=result)\n"
     ]
    }
   ],
   "source": [
    "df_stockwatch = pd.read_csv('merged_data_stockwatch.csv')\n",
    "df_reut = pd.read_csv('own_data_test_sentiments.csv')"
   ]
  },
  {
   "cell_type": "code",
   "execution_count": 38,
   "metadata": {},
   "outputs": [
    {
     "data": {
      "text/html": [
       "<div>\n",
       "<style scoped>\n",
       "    .dataframe tbody tr th:only-of-type {\n",
       "        vertical-align: middle;\n",
       "    }\n",
       "\n",
       "    .dataframe tbody tr th {\n",
       "        vertical-align: top;\n",
       "    }\n",
       "\n",
       "    .dataframe thead th {\n",
       "        text-align: right;\n",
       "    }\n",
       "</style>\n",
       "<table border=\"1\" class=\"dataframe\">\n",
       "  <thead>\n",
       "    <tr style=\"text-align: right;\">\n",
       "      <th></th>\n",
       "      <th>Date</th>\n",
       "      <th>ticker</th>\n",
       "      <th>title</th>\n",
       "    </tr>\n",
       "  </thead>\n",
       "  <tbody>\n",
       "    <tr>\n",
       "      <th>0</th>\n",
       "      <td>2018-12-19 06:30</td>\n",
       "      <td>MMM</td>\n",
       "      <td>3M to Acquire M*Modal ’s Technology Business</td>\n",
       "    </tr>\n",
       "    <tr>\n",
       "      <th>1</th>\n",
       "      <td>2018-12-05 02:00</td>\n",
       "      <td>MMM</td>\n",
       "      <td>3M Announces Formal Requirement at COP24 for A...</td>\n",
       "    </tr>\n",
       "    <tr>\n",
       "      <th>2</th>\n",
       "      <td>2018-11-20 13:32</td>\n",
       "      <td>MMM</td>\n",
       "      <td>3M Announces Upcoming Investor Events</td>\n",
       "    </tr>\n",
       "    <tr>\n",
       "      <th>3</th>\n",
       "      <td>2018-11-15 13:56</td>\n",
       "      <td>MMM</td>\n",
       "      <td>3M Responding to California Wildfires with N95...</td>\n",
       "    </tr>\n",
       "    <tr>\n",
       "      <th>4</th>\n",
       "      <td>2018-11-15 06:30</td>\n",
       "      <td>MMM</td>\n",
       "      <td>3M CEO Introduces Priorities for the Future, S...</td>\n",
       "    </tr>\n",
       "  </tbody>\n",
       "</table>\n",
       "</div>"
      ],
      "text/plain": [
       "               Date ticker                                              title\n",
       "0  2018-12-19 06:30    MMM       3M to Acquire M*Modal ’s Technology Business\n",
       "1  2018-12-05 02:00    MMM  3M Announces Formal Requirement at COP24 for A...\n",
       "2  2018-11-20 13:32    MMM              3M Announces Upcoming Investor Events\n",
       "3  2018-11-15 13:56    MMM  3M Responding to California Wildfires with N95...\n",
       "4  2018-11-15 06:30    MMM  3M CEO Introduces Priorities for the Future, S..."
      ]
     },
     "execution_count": 38,
     "metadata": {},
     "output_type": "execute_result"
    }
   ],
   "source": [
    "df_stockwatch.head()"
   ]
  },
  {
   "cell_type": "code",
   "execution_count": 39,
   "metadata": {},
   "outputs": [
    {
     "data": {
      "text/html": [
       "<div>\n",
       "<style scoped>\n",
       "    .dataframe tbody tr th:only-of-type {\n",
       "        vertical-align: middle;\n",
       "    }\n",
       "\n",
       "    .dataframe tbody tr th {\n",
       "        vertical-align: top;\n",
       "    }\n",
       "\n",
       "    .dataframe thead th {\n",
       "        text-align: right;\n",
       "    }\n",
       "</style>\n",
       "<table border=\"1\" class=\"dataframe\">\n",
       "  <thead>\n",
       "    <tr style=\"text-align: right;\">\n",
       "      <th></th>\n",
       "      <th>Date</th>\n",
       "      <th>Sname</th>\n",
       "      <th>title</th>\n",
       "      <th>Name</th>\n",
       "    </tr>\n",
       "  </thead>\n",
       "  <tbody>\n",
       "    <tr>\n",
       "      <th>0</th>\n",
       "      <td>2009-01-05</td>\n",
       "      <td>American Airlines</td>\n",
       "      <td>American Airlines Reports December Traffic</td>\n",
       "      <td>American Airlines Group</td>\n",
       "    </tr>\n",
       "    <tr>\n",
       "      <th>1</th>\n",
       "      <td>2009-01-06</td>\n",
       "      <td>American Airlines</td>\n",
       "      <td>Allied Pilots Association Critical of American...</td>\n",
       "      <td>American Airlines Group</td>\n",
       "    </tr>\n",
       "    <tr>\n",
       "      <th>2</th>\n",
       "      <td>2009-01-12</td>\n",
       "      <td>American Airlines</td>\n",
       "      <td>American Airlines Starts the New Year Right Wi...</td>\n",
       "      <td>American Airlines Group</td>\n",
       "    </tr>\n",
       "    <tr>\n",
       "      <th>3</th>\n",
       "      <td>2009-01-15</td>\n",
       "      <td>American Airlines</td>\n",
       "      <td>American Airlines Launches Newly Redesigned, M...</td>\n",
       "      <td>American Airlines Group</td>\n",
       "    </tr>\n",
       "    <tr>\n",
       "      <th>4</th>\n",
       "      <td>2009-01-16</td>\n",
       "      <td>American Airlines</td>\n",
       "      <td>American Airlines and Association of Professio...</td>\n",
       "      <td>American Airlines Group</td>\n",
       "    </tr>\n",
       "  </tbody>\n",
       "</table>\n",
       "</div>"
      ],
      "text/plain": [
       "         Date              Sname  \\\n",
       "0  2009-01-05  American Airlines   \n",
       "1  2009-01-06  American Airlines   \n",
       "2  2009-01-12  American Airlines   \n",
       "3  2009-01-15  American Airlines   \n",
       "4  2009-01-16  American Airlines   \n",
       "\n",
       "                                               title                     Name  \n",
       "0         American Airlines Reports December Traffic  American Airlines Group  \n",
       "1  Allied Pilots Association Critical of American...  American Airlines Group  \n",
       "2  American Airlines Starts the New Year Right Wi...  American Airlines Group  \n",
       "3  American Airlines Launches Newly Redesigned, M...  American Airlines Group  \n",
       "4  American Airlines and Association of Professio...  American Airlines Group  "
      ]
     },
     "execution_count": 39,
     "metadata": {},
     "output_type": "execute_result"
    }
   ],
   "source": [
    "df_reut.head()"
   ]
  },
  {
   "cell_type": "code",
   "execution_count": 40,
   "metadata": {},
   "outputs": [
    {
     "data": {
      "text/plain": [
       "279876"
      ]
     },
     "execution_count": 40,
     "metadata": {},
     "output_type": "execute_result"
    }
   ],
   "source": [
    "df_stockwatch.shape[0]"
   ]
  },
  {
   "cell_type": "code",
   "execution_count": 41,
   "metadata": {},
   "outputs": [
    {
     "data": {
      "text/plain": [
       "887405"
      ]
     },
     "execution_count": 41,
     "metadata": {},
     "output_type": "execute_result"
    }
   ],
   "source": [
    "df_reut.shape[0]"
   ]
  },
  {
   "cell_type": "code",
   "execution_count": 42,
   "metadata": {},
   "outputs": [],
   "source": [
    "df_stockwatch.drop(['Date', 'ticker'], axis = 1, inplace = True)\n",
    "df_reut.drop(['Date', 'Sname', 'Name'], axis = 1, inplace = True)\n",
    "\n",
    "df_general = pd.concat([df_reut, df_stockwatch], axis = 0) \n",
    "df_general.reset_index(inplace = True) #old indices: 887405, 279876\n",
    "df_general['index'] = df_general.index"
   ]
  },
  {
   "cell_type": "code",
   "execution_count": 43,
   "metadata": {},
   "outputs": [
    {
     "data": {
      "text/plain": [
       "3501.843"
      ]
     },
     "execution_count": 43,
     "metadata": {},
     "output_type": "execute_result"
    }
   ],
   "source": [
    "df_general.shape[0]* 0.003"
   ]
  },
  {
   "cell_type": "code",
   "execution_count": 148,
   "metadata": {},
   "outputs": [],
   "source": [
    "df_mod_test = df_general.sample(500)"
   ]
  },
  {
   "cell_type": "code",
   "execution_count": 149,
   "metadata": {},
   "outputs": [],
   "source": [
    "df_mod_test.to_csv('data_sentiments/test_model.tsv', sep='\\t', index=False, header=True)"
   ]
  },
  {
   "cell_type": "code",
   "execution_count": 150,
   "metadata": {},
   "outputs": [],
   "source": [
    "df_general.to_csv('data_sentiments/test.tsv', sep='\\t', index=False, header=True)"
   ]
  },
  {
   "cell_type": "code",
   "execution_count": 196,
   "metadata": {},
   "outputs": [
    {
     "name": "stdout",
     "output_type": "stream",
     "text": [
      "<class 'pandas.core.frame.DataFrame'>\n",
      "RangeIndex: 1167281 entries, 0 to 1167280\n",
      "Data columns (total 2 columns):\n",
      "index    1167281 non-null int64\n",
      "title    1167281 non-null object\n",
      "dtypes: int64(1), object(1)\n",
      "memory usage: 17.8+ MB\n"
     ]
    }
   ],
   "source": []
  },
  {
   "cell_type": "code",
   "execution_count": null,
   "metadata": {},
   "outputs": [],
   "source": []
  },
  {
   "cell_type": "code",
   "execution_count": null,
   "metadata": {},
   "outputs": [],
   "source": []
  },
  {
   "cell_type": "code",
   "execution_count": null,
   "metadata": {},
   "outputs": [],
   "source": []
  },
  {
   "cell_type": "markdown",
   "metadata": {},
   "source": [
    "# Preparing train from kaggle data"
   ]
  },
  {
   "cell_type": "code",
   "execution_count": 151,
   "metadata": {},
   "outputs": [
    {
     "data": {
      "text/plain": [
       "41"
      ]
     },
     "execution_count": 151,
     "metadata": {},
     "output_type": "execute_result"
    }
   ],
   "source": [
    "df = pd.read_csv('kaggle_train_sentiments.csv')\n",
    "gc.collect()"
   ]
  },
  {
   "cell_type": "code",
   "execution_count": 152,
   "metadata": {},
   "outputs": [
    {
     "data": {
      "text/html": [
       "<div>\n",
       "<style scoped>\n",
       "    .dataframe tbody tr th:only-of-type {\n",
       "        vertical-align: middle;\n",
       "    }\n",
       "\n",
       "    .dataframe tbody tr th {\n",
       "        vertical-align: top;\n",
       "    }\n",
       "\n",
       "    .dataframe thead th {\n",
       "        text-align: right;\n",
       "    }\n",
       "</style>\n",
       "<table border=\"1\" class=\"dataframe\">\n",
       "  <thead>\n",
       "    <tr style=\"text-align: right;\">\n",
       "      <th></th>\n",
       "      <th>headline</th>\n",
       "      <th>sentimentClass</th>\n",
       "    </tr>\n",
       "  </thead>\n",
       "  <tbody>\n",
       "    <tr>\n",
       "      <th>0</th>\n",
       "      <td>China's Daqing pumps 43.41 mln tonnes of oil i...</td>\n",
       "      <td>-1</td>\n",
       "    </tr>\n",
       "    <tr>\n",
       "      <th>1</th>\n",
       "      <td>FEATURE-In kidnapping, finesse works best</td>\n",
       "      <td>-1</td>\n",
       "    </tr>\n",
       "    <tr>\n",
       "      <th>2</th>\n",
       "      <td>PRESS DIGEST - Wall Street Journal - Jan 1</td>\n",
       "      <td>-1</td>\n",
       "    </tr>\n",
       "    <tr>\n",
       "      <th>3</th>\n",
       "      <td>PRESS DIGEST - New York Times - Jan 1</td>\n",
       "      <td>-1</td>\n",
       "    </tr>\n",
       "    <tr>\n",
       "      <th>4</th>\n",
       "      <td>PRESS DIGEST - New York Times - Jan 1</td>\n",
       "      <td>-1</td>\n",
       "    </tr>\n",
       "  </tbody>\n",
       "</table>\n",
       "</div>"
      ],
      "text/plain": [
       "                                            headline  sentimentClass\n",
       "0  China's Daqing pumps 43.41 mln tonnes of oil i...              -1\n",
       "1          FEATURE-In kidnapping, finesse works best              -1\n",
       "2         PRESS DIGEST - Wall Street Journal - Jan 1              -1\n",
       "3              PRESS DIGEST - New York Times - Jan 1              -1\n",
       "4              PRESS DIGEST - New York Times - Jan 1              -1"
      ]
     },
     "execution_count": 152,
     "metadata": {},
     "output_type": "execute_result"
    }
   ],
   "source": [
    "df.head()"
   ]
  },
  {
   "cell_type": "code",
   "execution_count": 153,
   "metadata": {},
   "outputs": [],
   "source": [
    "lst_digest = []\n",
    "for j in range(df.shape[0]):\n",
    "    if 'DIGEST' not in str(df.iloc[j, 0]) and 'BUZZ-U.S.' not in str(df.iloc[j, 0]) and 'FACTBOX-U.S.' not in str(df.iloc[j, 0]):\n",
    "        lst_digest.append(j)"
   ]
  },
  {
   "cell_type": "code",
   "execution_count": 154,
   "metadata": {},
   "outputs": [
    {
     "data": {
      "text/plain": [
       "9177473"
      ]
     },
     "execution_count": 154,
     "metadata": {},
     "output_type": "execute_result"
    }
   ],
   "source": [
    "len(lst_digest)"
   ]
  },
  {
   "cell_type": "code",
   "execution_count": 155,
   "metadata": {},
   "outputs": [],
   "source": [
    "df = df.iloc[lst_digest, :]\n",
    "df['index'] = df.index\n",
    "df['alpha'] = 'a'\n",
    "\n",
    "df.rename(index = str, columns = {'headline': 'title', 'sentimentClass': 'label'}, inplace= True)\n",
    "df.columns\n",
    "fcls = ['index', 'label','alpha','title']\n",
    "\n",
    "df = df[fcls]"
   ]
  },
  {
   "cell_type": "code",
   "execution_count": 156,
   "metadata": {},
   "outputs": [
    {
     "data": {
      "text/html": [
       "<div>\n",
       "<style scoped>\n",
       "    .dataframe tbody tr th:only-of-type {\n",
       "        vertical-align: middle;\n",
       "    }\n",
       "\n",
       "    .dataframe tbody tr th {\n",
       "        vertical-align: top;\n",
       "    }\n",
       "\n",
       "    .dataframe thead th {\n",
       "        text-align: right;\n",
       "    }\n",
       "</style>\n",
       "<table border=\"1\" class=\"dataframe\">\n",
       "  <thead>\n",
       "    <tr style=\"text-align: right;\">\n",
       "      <th></th>\n",
       "      <th>index</th>\n",
       "      <th>label</th>\n",
       "      <th>alpha</th>\n",
       "      <th>title</th>\n",
       "    </tr>\n",
       "  </thead>\n",
       "  <tbody>\n",
       "    <tr>\n",
       "      <th>0</th>\n",
       "      <td>0</td>\n",
       "      <td>-1</td>\n",
       "      <td>a</td>\n",
       "      <td>China's Daqing pumps 43.41 mln tonnes of oil i...</td>\n",
       "    </tr>\n",
       "    <tr>\n",
       "      <th>1</th>\n",
       "      <td>1</td>\n",
       "      <td>-1</td>\n",
       "      <td>a</td>\n",
       "      <td>FEATURE-In kidnapping, finesse works best</td>\n",
       "    </tr>\n",
       "    <tr>\n",
       "      <th>9</th>\n",
       "      <td>9</td>\n",
       "      <td>1</td>\n",
       "      <td>a</td>\n",
       "      <td>Tenet Completes Sale of Alvarado Hospital Medi...</td>\n",
       "    </tr>\n",
       "    <tr>\n",
       "      <th>10</th>\n",
       "      <td>10</td>\n",
       "      <td>0</td>\n",
       "      <td>a</td>\n",
       "      <td>RPT-Wall St Week Ahead: Mild jobs may lift sto...</td>\n",
       "    </tr>\n",
       "    <tr>\n",
       "      <th>11</th>\n",
       "      <td>11</td>\n",
       "      <td>0</td>\n",
       "      <td>a</td>\n",
       "      <td>RPT-Wall St Week Ahead: Mild jobs may lift sto...</td>\n",
       "    </tr>\n",
       "  </tbody>\n",
       "</table>\n",
       "</div>"
      ],
      "text/plain": [
       "    index  label alpha                                              title\n",
       "0       0     -1     a  China's Daqing pumps 43.41 mln tonnes of oil i...\n",
       "1       1     -1     a          FEATURE-In kidnapping, finesse works best\n",
       "9       9      1     a  Tenet Completes Sale of Alvarado Hospital Medi...\n",
       "10     10      0     a  RPT-Wall St Week Ahead: Mild jobs may lift sto...\n",
       "11     11      0     a  RPT-Wall St Week Ahead: Mild jobs may lift sto..."
      ]
     },
     "execution_count": 156,
     "metadata": {},
     "output_type": "execute_result"
    }
   ],
   "source": [
    "df.head()"
   ]
  },
  {
   "cell_type": "code",
   "execution_count": 157,
   "metadata": {},
   "outputs": [],
   "source": [
    "df['label'] = df['label'] + 1"
   ]
  },
  {
   "cell_type": "code",
   "execution_count": 158,
   "metadata": {},
   "outputs": [
    {
     "data": {
      "text/plain": [
       "4818.173325000001"
      ]
     },
     "execution_count": 158,
     "metadata": {},
     "output_type": "execute_result"
    }
   ],
   "source": [
    "df.shape[0]*0.03 * 0.07 *0.25"
   ]
  },
  {
   "cell_type": "code",
   "execution_count": 159,
   "metadata": {},
   "outputs": [],
   "source": [
    "X_train, X_test, y_train, y_test = train_test_split(df, df['label'], test_size = 0.03*0.07, random_state= 1337, stratify = df['label'])\n",
    "X_train, X_test, y_train, y_test = train_test_split(X_test, X_test['label'], test_size = 0.25, random_state= 1337, stratify = X_test['label'])\n",
    "\n",
    "X_train.dropna(axis = 0, inplace = True)\n",
    "X_test.dropna(axis = 0, inplace = True)"
   ]
  },
  {
   "cell_type": "code",
   "execution_count": 160,
   "metadata": {},
   "outputs": [],
   "source": [
    "X_train.to_csv('data_sentiments/train.tsv', sep='\\t', index=False, header=False) #~15000\n",
    "X_test.to_csv('data_sentiments/dev.tsv', sep='\\t', index=False, header=False)  #4818"
   ]
  },
  {
   "cell_type": "code",
   "execution_count": 161,
   "metadata": {},
   "outputs": [
    {
     "data": {
      "text/plain": [
       "137"
      ]
     },
     "execution_count": 161,
     "metadata": {},
     "output_type": "execute_result"
    }
   ],
   "source": [
    "gc.collect()"
   ]
  },
  {
   "cell_type": "code",
   "execution_count": 179,
   "metadata": {},
   "outputs": [],
   "source": [
    "X_test['title_len'] = X_test['title'].str.len()"
   ]
  },
  {
   "cell_type": "code",
   "execution_count": 195,
   "metadata": {},
   "outputs": [
    {
     "data": {
      "text/plain": [
       "(14454, 4)"
      ]
     },
     "execution_count": 195,
     "metadata": {},
     "output_type": "execute_result"
    }
   ],
   "source": []
  },
  {
   "cell_type": "markdown",
   "metadata": {},
   "source": [
    "# Check"
   ]
  },
  {
   "cell_type": "code",
   "execution_count": 130,
   "metadata": {},
   "outputs": [],
   "source": [
    "import pandas as pd\n",
    "import numpy as np\n",
    "from sklearn.model_selection import train_test_split\n",
    "import gc\n",
    "import re\n",
    "from sklearn.metrics import accuracy_score"
   ]
  },
  {
   "cell_type": "code",
   "execution_count": 131,
   "metadata": {},
   "outputs": [],
   "source": [
    "label_stockwatch = stockwatch_not_null['label']\n",
    "#label_reuters = merged['label']"
   ]
  },
  {
   "cell_type": "code",
   "execution_count": 132,
   "metadata": {},
   "outputs": [],
   "source": [
    "pred_stockwatch = pd.read_csv('outputs/tr0705_stockwatch.tsv' ,sep=\"\\t\",header=None)\n",
    "pred_stockwatch = pd.DataFrame({'index':pred_stockwatch.index,\n",
    "                               'label':pred_stockwatch.idxmax(axis=1)})\n",
    "\n",
    "# pred_reuters = pd.read_csv('outputs/test_results_reuters.tsv', sep = \"\\t\", header= None)\n",
    "# pred_reuters = pd.DataFrame({'index':pred_reuters.index,\n",
    "#                                'label':pred_reuters.idxmax(axis=1)})"
   ]
  },
  {
   "cell_type": "code",
   "execution_count": 133,
   "metadata": {},
   "outputs": [
    {
     "data": {
      "text/plain": [
       "0.4772475454741313"
      ]
     },
     "execution_count": 133,
     "metadata": {},
     "output_type": "execute_result"
    }
   ],
   "source": [
    "accuracy_score(label_stockwatch, pred_stockwatch['label'])"
   ]
  },
  {
   "cell_type": "code",
   "execution_count": 135,
   "metadata": {},
   "outputs": [
    {
     "data": {
      "text/html": [
       "<div>\n",
       "<style scoped>\n",
       "    .dataframe tbody tr th:only-of-type {\n",
       "        vertical-align: middle;\n",
       "    }\n",
       "\n",
       "    .dataframe tbody tr th {\n",
       "        vertical-align: top;\n",
       "    }\n",
       "\n",
       "    .dataframe thead th {\n",
       "        text-align: right;\n",
       "    }\n",
       "</style>\n",
       "<table border=\"1\" class=\"dataframe\">\n",
       "  <thead>\n",
       "    <tr style=\"text-align: right;\">\n",
       "      <th></th>\n",
       "      <th>index</th>\n",
       "      <th>label</th>\n",
       "    </tr>\n",
       "  </thead>\n",
       "  <tbody>\n",
       "    <tr>\n",
       "      <th>count</th>\n",
       "      <td>259928.000000</td>\n",
       "      <td>259928.000000</td>\n",
       "    </tr>\n",
       "    <tr>\n",
       "      <th>mean</th>\n",
       "      <td>129963.500000</td>\n",
       "      <td>0.032009</td>\n",
       "    </tr>\n",
       "    <tr>\n",
       "      <th>std</th>\n",
       "      <td>75034.894722</td>\n",
       "      <td>0.176024</td>\n",
       "    </tr>\n",
       "    <tr>\n",
       "      <th>min</th>\n",
       "      <td>0.000000</td>\n",
       "      <td>0.000000</td>\n",
       "    </tr>\n",
       "    <tr>\n",
       "      <th>25%</th>\n",
       "      <td>64981.750000</td>\n",
       "      <td>0.000000</td>\n",
       "    </tr>\n",
       "    <tr>\n",
       "      <th>50%</th>\n",
       "      <td>129963.500000</td>\n",
       "      <td>0.000000</td>\n",
       "    </tr>\n",
       "    <tr>\n",
       "      <th>75%</th>\n",
       "      <td>194945.250000</td>\n",
       "      <td>0.000000</td>\n",
       "    </tr>\n",
       "    <tr>\n",
       "      <th>max</th>\n",
       "      <td>259927.000000</td>\n",
       "      <td>1.000000</td>\n",
       "    </tr>\n",
       "  </tbody>\n",
       "</table>\n",
       "</div>"
      ],
      "text/plain": [
       "               index          label\n",
       "count  259928.000000  259928.000000\n",
       "mean   129963.500000       0.032009\n",
       "std     75034.894722       0.176024\n",
       "min         0.000000       0.000000\n",
       "25%     64981.750000       0.000000\n",
       "50%    129963.500000       0.000000\n",
       "75%    194945.250000       0.000000\n",
       "max    259927.000000       1.000000"
      ]
     },
     "execution_count": 135,
     "metadata": {},
     "output_type": "execute_result"
    }
   ],
   "source": []
  },
  {
   "cell_type": "code",
   "execution_count": null,
   "metadata": {},
   "outputs": [],
   "source": []
  },
  {
   "cell_type": "code",
   "execution_count": null,
   "metadata": {},
   "outputs": [],
   "source": []
  },
  {
   "cell_type": "code",
   "execution_count": null,
   "metadata": {},
   "outputs": [],
   "source": []
  },
  {
   "cell_type": "code",
   "execution_count": null,
   "metadata": {},
   "outputs": [],
   "source": []
  }
 ],
 "metadata": {
  "kernelspec": {
   "display_name": "Python 3",
   "language": "python",
   "name": "python3"
  },
  "language_info": {
   "codemirror_mode": {
    "name": "ipython",
    "version": 3
   },
   "file_extension": ".py",
   "mimetype": "text/x-python",
   "name": "python",
   "nbconvert_exporter": "python",
   "pygments_lexer": "ipython3",
   "version": "3.6.5"
  }
 },
 "nbformat": 4,
 "nbformat_minor": 2
}
