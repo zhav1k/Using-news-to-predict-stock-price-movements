{
 "cells": [
  {
   "cell_type": "code",
   "execution_count": 42,
   "metadata": {},
   "outputs": [],
   "source": [
    "import pandas as pd\n",
    "import numpy as np\n",
    "import _pickle as cPickle\n",
    "from datetime import timedelta\n",
    "from tqdm import tqdm, tqdm_notebook\n",
    "from sklearn.metrics import accuracy_score\n",
    "from sklearn.preprocessing import StandardScaler\n",
    "import matplotlib.pyplot as plt\n",
    "from itertools import chain\n",
    "pd.set_option('display.max_columns', 500)\n",
    "pd.set_option('display.width', 1000)\n",
    "%matplotlib inline"
   ]
  },
  {
   "cell_type": "code",
   "execution_count": 43,
   "metadata": {},
   "outputs": [],
   "source": [
    "df1 = pd.read_csv('../custom_data/Feature_Engineering/for_cloud.csv')\n",
    "df1.dropna(axis = 0, how = 'any', inplace = True)\n",
    "df1.isna().sum()\n",
    "\n",
    "df1['shifted_close'] = df1.groupby('ticker')['Close'].shift(-1)\n",
    "df1['tgt'] = (df1.shifted_close - df1.Close).div(df1.shifted_close) * 100\n",
    "df1['target'] = 0\n",
    "df1.loc[(df1['tgt'] >= 0), 'target'] = 1\n",
    "df1.loc[(df1['tgt'] < 0), 'target'] = 0\n",
    "df1.drop(['shifted_close', 'tgt'], axis = 1 , inplace = True)"
   ]
  },
  {
   "cell_type": "code",
   "execution_count": 44,
   "metadata": {},
   "outputs": [],
   "source": [
    "df1['Date_dt'] = pd.to_datetime(df1['Date'], format='%Y%m%d', errors='ignore')\n",
    "df1['year'] = pd.DatetimeIndex(df1['Date']).year\n",
    "df1['month'] = pd.DatetimeIndex(df1['Date']).month\n",
    "df1.drop(['Date', 'Name'], axis = 1, inplace = True)"
   ]
  },
  {
   "cell_type": "code",
   "execution_count": 45,
   "metadata": {},
   "outputs": [
    {
     "data": {
      "text/html": [
       "<div>\n",
       "<style scoped>\n",
       "    .dataframe tbody tr th:only-of-type {\n",
       "        vertical-align: middle;\n",
       "    }\n",
       "\n",
       "    .dataframe tbody tr th {\n",
       "        vertical-align: top;\n",
       "    }\n",
       "\n",
       "    .dataframe thead th {\n",
       "        text-align: right;\n",
       "    }\n",
       "</style>\n",
       "<table border=\"1\" class=\"dataframe\">\n",
       "  <thead>\n",
       "    <tr style=\"text-align: right;\">\n",
       "      <th></th>\n",
       "      <th>ticker</th>\n",
       "      <th>Adj Close</th>\n",
       "      <th>Close</th>\n",
       "      <th>High</th>\n",
       "      <th>Low</th>\n",
       "      <th>Open</th>\n",
       "      <th>Volume</th>\n",
       "      <th>Sector</th>\n",
       "      <th>target</th>\n",
       "      <th>Date_dt</th>\n",
       "      <th>year</th>\n",
       "      <th>month</th>\n",
       "    </tr>\n",
       "  </thead>\n",
       "  <tbody>\n",
       "    <tr>\n",
       "      <th>0</th>\n",
       "      <td>AAL</td>\n",
       "      <td>7.405228</td>\n",
       "      <td>7.73</td>\n",
       "      <td>7.87</td>\n",
       "      <td>7.48</td>\n",
       "      <td>7.48</td>\n",
       "      <td>4194100.0</td>\n",
       "      <td>Industrials</td>\n",
       "      <td>1</td>\n",
       "      <td>2008-12-31</td>\n",
       "      <td>2008</td>\n",
       "      <td>12</td>\n",
       "    </tr>\n",
       "    <tr>\n",
       "      <th>1</th>\n",
       "      <td>AAL</td>\n",
       "      <td>8.037499</td>\n",
       "      <td>8.39</td>\n",
       "      <td>8.48</td>\n",
       "      <td>7.67</td>\n",
       "      <td>7.73</td>\n",
       "      <td>5167000.0</td>\n",
       "      <td>Industrials</td>\n",
       "      <td>0</td>\n",
       "      <td>2009-01-02</td>\n",
       "      <td>2009</td>\n",
       "      <td>1</td>\n",
       "    </tr>\n",
       "    <tr>\n",
       "      <th>2</th>\n",
       "      <td>AAL</td>\n",
       "      <td>7.980019</td>\n",
       "      <td>8.33</td>\n",
       "      <td>8.39</td>\n",
       "      <td>7.96</td>\n",
       "      <td>8.38</td>\n",
       "      <td>3457100.0</td>\n",
       "      <td>Industrials</td>\n",
       "      <td>1</td>\n",
       "      <td>2009-01-05</td>\n",
       "      <td>2009</td>\n",
       "      <td>1</td>\n",
       "    </tr>\n",
       "    <tr>\n",
       "      <th>3</th>\n",
       "      <td>AAL</td>\n",
       "      <td>8.679349</td>\n",
       "      <td>9.06</td>\n",
       "      <td>9.21</td>\n",
       "      <td>8.13</td>\n",
       "      <td>8.15</td>\n",
       "      <td>5731000.0</td>\n",
       "      <td>Industrials</td>\n",
       "      <td>1</td>\n",
       "      <td>2009-01-06</td>\n",
       "      <td>2009</td>\n",
       "      <td>1</td>\n",
       "    </tr>\n",
       "    <tr>\n",
       "      <th>4</th>\n",
       "      <td>AAL</td>\n",
       "      <td>8.698509</td>\n",
       "      <td>9.08</td>\n",
       "      <td>9.47</td>\n",
       "      <td>8.66</td>\n",
       "      <td>8.66</td>\n",
       "      <td>5468900.0</td>\n",
       "      <td>Industrials</td>\n",
       "      <td>1</td>\n",
       "      <td>2009-01-07</td>\n",
       "      <td>2009</td>\n",
       "      <td>1</td>\n",
       "    </tr>\n",
       "  </tbody>\n",
       "</table>\n",
       "</div>"
      ],
      "text/plain": [
       "  ticker  Adj Close  Close  High   Low  Open     Volume       Sector  target     Date_dt  year  month\n",
       "0    AAL   7.405228   7.73  7.87  7.48  7.48  4194100.0  Industrials       1  2008-12-31  2008     12\n",
       "1    AAL   8.037499   8.39  8.48  7.67  7.73  5167000.0  Industrials       0  2009-01-02  2009      1\n",
       "2    AAL   7.980019   8.33  8.39  7.96  8.38  3457100.0  Industrials       1  2009-01-05  2009      1\n",
       "3    AAL   8.679349   9.06  9.21  8.13  8.15  5731000.0  Industrials       1  2009-01-06  2009      1\n",
       "4    AAL   8.698509   9.08  9.47  8.66  8.66  5468900.0  Industrials       1  2009-01-07  2009      1"
      ]
     },
     "execution_count": 45,
     "metadata": {},
     "output_type": "execute_result"
    }
   ],
   "source": [
    "df1.head()"
   ]
  },
  {
   "cell_type": "code",
   "execution_count": 46,
   "metadata": {},
   "outputs": [],
   "source": [
    "embedding_lengths = [100, 2, 2, 3]\n",
    "encodings = {}\n",
    "categorical_cols = ['ticker', 'Sector', 'year', 'month']"
   ]
  },
  {
   "cell_type": "code",
   "execution_count": 47,
   "metadata": {},
   "outputs": [],
   "source": [
    "def get_xy(df):\n",
    "    y = df['target']\n",
    "    x = get_x(df)\n",
    "    \n",
    "    return x, y\n",
    "\n",
    "def label_encode(series, min_counts=2):\n",
    "    vc = series.value_counts()\n",
    "    #reserve 0 for unknown\n",
    "    le = {c : i+1 for i, c in enumerate(vc.index[vc > min_counts])}\n",
    "    le['UNKN'] = 0\n",
    "    return le\n",
    "\n",
    "def get_encodings(df, cat_cols):\n",
    "    if len(encodings) == 0:\n",
    "        for col in cat_cols:\n",
    "            encodings[col] = label_encode(df[col])\n",
    "    return encodings\n",
    "\n",
    "def map_encodings(df, cat_cols, encs):\n",
    "    for col in cat_cols:\n",
    "        df[col] = df[col].map(encs[col]).fillna(0).astype(int)\n",
    "        \n",
    "def get_x(df, isTrain=True):\n",
    "    encodings = get_encodings(df, categorical_cols)\n",
    "    map_encodings(df, categorical_cols, encodings) \n",
    "    if isTrain:\n",
    "        cols_to_drop = ['target', 'Date_dt']\n",
    "    else: \n",
    "        cols_to_drop = ['time']\n",
    "    \n",
    "    df.drop(columns=cols_to_drop, inplace=True)\n",
    "        \n",
    "    return df"
   ]
  },
  {
   "cell_type": "code",
   "execution_count": 48,
   "metadata": {},
   "outputs": [],
   "source": [
    "X, y = get_xy(df1)"
   ]
  },
  {
   "cell_type": "code",
   "execution_count": 50,
   "metadata": {},
   "outputs": [],
   "source": [
    "#get all the numeric columns\n",
    "num_cols = [x for x in X.columns if x not in categorical_cols]\n",
    "\n",
    "#remove assetCode from num_cols\n",
    "num_cols = [x for x in num_cols if x not in ['ticker']]"
   ]
  },
  {
   "cell_type": "code",
   "execution_count": 51,
   "metadata": {},
   "outputs": [],
   "source": [
    "#scale numeric cols\n",
    "def scale_numeric(df):\n",
    "    df[num_cols] = df[num_cols].fillna(0)\n",
    "\n",
    "    scaler = StandardScaler()\n",
    "    \n",
    "    #need to do this due to memory contraints\n",
    "    for i in range(0, len(num_cols), 4):\n",
    "        cols = num_cols[i:i + 3]\n",
    "        df[cols] = scaler.fit_transform(df[cols].astype(float))\n",
    "        \n",
    "scale_numeric(X)"
   ]
  },
  {
   "cell_type": "code",
   "execution_count": 52,
   "metadata": {},
   "outputs": [],
   "source": [
    "n_train = int(X.shape[0] * 0.8)\n",
    "\n",
    "X_train, y_train = X.iloc[:n_train], y.iloc[:n_train]\n",
    "X_valid, y_valid = X.iloc[n_train:], y.iloc[n_train:]"
   ]
  },
  {
   "cell_type": "code",
   "execution_count": 53,
   "metadata": {},
   "outputs": [],
   "source": [
    "def get_cat_num_split(df):\n",
    "    X = {} \n",
    "    X['num'] = df.loc[:, num_cols].values\n",
    "    X['num'] = np.reshape(X['num'], (X['num'].shape[0], 1, X['num'].shape[1]))\n",
    "    for cat in categorical_cols:\n",
    "        X[cat] = df.loc[:, cat].values\n",
    "    return X"
   ]
  },
  {
   "cell_type": "code",
   "execution_count": 54,
   "metadata": {},
   "outputs": [],
   "source": [
    "X_train_split = get_cat_num_split(X_train)\n",
    "X_valid_split = get_cat_num_split(X_valid)"
   ]
  },
  {
   "cell_type": "code",
   "execution_count": 56,
   "metadata": {},
   "outputs": [],
   "source": []
  },
  {
   "cell_type": "code",
   "execution_count": 59,
   "metadata": {},
   "outputs": [
    {
     "name": "stderr",
     "output_type": "stream",
     "text": [
      "C:\\Users\\zhav1k\\Anaconda3\\lib\\site-packages\\h5py\\__init__.py:36: FutureWarning: Conversion of the second argument of issubdtype from `float` to `np.floating` is deprecated. In future, it will be treated as `np.float64 == np.dtype(float).type`.\n",
      "  from ._conv import register_converters as _register_converters\n",
      "Using TensorFlow backend.\n"
     ]
    }
   ],
   "source": [
    "from keras.models import Model\n",
    "from keras.layers import Input, Dense, Embedding, Concatenate, Flatten, LSTM, Dropout, Reshape\n",
    "from keras.losses import binary_crossentropy, mse\n",
    "from keras.regularizers import l2\n",
    "import keras.backend as K\n",
    "\n",
    "DROPOUT_RATE = 0.2\n",
    "\n",
    "cat_inputs = [Input(shape=[1], name=cat) for cat in categorical_cols]\n",
    "embeddings = [Embedding(encoding_len[cat], embedding_lengths[i])(cat_inputs[i]) for i, cat in enumerate(categorical_cols)]\n",
    "categorical_logits = Concatenate()([(cat_emb) for cat_emb in embeddings])\n",
    "categorical_logits = LSTM(128, activation='relu', input_shape=(1, len(categorical_cols)), return_sequences=True,\n",
    "                         kernel_regularizer=l2(1e-5), kernel_initializer='random_uniform')(categorical_logits)\n",
    "\n",
    "numerical_inputs = Input(shape=(1, len(num_cols)), name='num')\n",
    "numerical_logits = LSTM(256, activation='relu', input_shape=(1, len(num_cols)), return_sequences=True,\n",
    "                        kernel_regularizer=l2(1e-5), kernel_initializer='random_uniform')(numerical_inputs)\n",
    "numerical_logits = Dropout(DROPOUT_RATE)(numerical_logits)\n",
    "\n",
    "logits = Concatenate()([numerical_logits,categorical_logits])\n",
    "logits = LSTM(256, activation='relu', kernel_initializer='random_uniform')(logits)\n",
    "out = Dense(1, activation='sigmoid', name='confidence_level')(logits)\n",
    "\n",
    "model = Model(inputs = cat_inputs + [numerical_inputs], outputs=out)\n",
    "model.compile(loss='binary_crossentropy', optimizer='adam')"
   ]
  },
  {
   "cell_type": "code",
   "execution_count": 60,
   "metadata": {},
   "outputs": [
    {
     "name": "stdout",
     "output_type": "stream",
     "text": [
      "__________________________________________________________________________________________________\n",
      "Layer (type)                    Output Shape         Param #     Connected to                     \n",
      "==================================================================================================\n",
      "ticker (InputLayer)             (None, 1)            0                                            \n",
      "__________________________________________________________________________________________________\n",
      "Sector (InputLayer)             (None, 1)            0                                            \n",
      "__________________________________________________________________________________________________\n",
      "year (InputLayer)               (None, 1)            0                                            \n",
      "__________________________________________________________________________________________________\n",
      "month (InputLayer)              (None, 1)            0                                            \n",
      "__________________________________________________________________________________________________\n",
      "num (InputLayer)                (None, 1, 6)         0                                            \n",
      "__________________________________________________________________________________________________\n",
      "embedding_1 (Embedding)         (None, 1, 100)       48900       ticker[0][0]                     \n",
      "__________________________________________________________________________________________________\n",
      "embedding_2 (Embedding)         (None, 1, 2)         26          Sector[0][0]                     \n",
      "__________________________________________________________________________________________________\n",
      "embedding_3 (Embedding)         (None, 1, 2)         26          year[0][0]                       \n",
      "__________________________________________________________________________________________________\n",
      "embedding_4 (Embedding)         (None, 1, 3)         42          month[0][0]                      \n",
      "__________________________________________________________________________________________________\n",
      "lstm_2 (LSTM)                   (None, 1, 256)       269312      num[0][0]                        \n",
      "__________________________________________________________________________________________________\n",
      "concatenate_1 (Concatenate)     (None, 1, 107)       0           embedding_1[0][0]                \n",
      "                                                                 embedding_2[0][0]                \n",
      "                                                                 embedding_3[0][0]                \n",
      "                                                                 embedding_4[0][0]                \n",
      "__________________________________________________________________________________________________\n",
      "dropout_1 (Dropout)             (None, 1, 256)       0           lstm_2[0][0]                     \n",
      "__________________________________________________________________________________________________\n",
      "lstm_1 (LSTM)                   (None, 1, 128)       120832      concatenate_1[0][0]              \n",
      "__________________________________________________________________________________________________\n",
      "concatenate_2 (Concatenate)     (None, 1, 384)       0           dropout_1[0][0]                  \n",
      "                                                                 lstm_1[0][0]                     \n",
      "__________________________________________________________________________________________________\n",
      "lstm_3 (LSTM)                   (None, 256)          656384      concatenate_2[0][0]              \n",
      "__________________________________________________________________________________________________\n",
      "confidence_level (Dense)        (None, 1)            257         lstm_3[0][0]                     \n",
      "==================================================================================================\n",
      "Total params: 1,095,779\n",
      "Trainable params: 1,095,779\n",
      "Non-trainable params: 0\n",
      "__________________________________________________________________________________________________\n"
     ]
    }
   ],
   "source": [
    "model.summary()"
   ]
  },
  {
   "cell_type": "code",
   "execution_count": 62,
   "metadata": {},
   "outputs": [
    {
     "name": "stdout",
     "output_type": "stream",
     "text": [
      "Train on 934781 samples, validate on 233696 samples\n",
      "Epoch 1/1\n"
     ]
    },
    {
     "name": "stdout",
     "output_type": "stream",
     "text": [
      "  9760/934781 [..............................] - ETA: 34:39:26 - loss: 0.697 - ETA: 17:36:53 - loss: 0.694 - ETA: 11:55:13 - loss: 0.696 - ETA: 9:02:59 - loss: 0.697 - ETA: 7:21:09 - loss: 0.69 - ETA: 6:12:35 - loss: 0.69 - ETA: 5:23:48 - loss: 0.69 - ETA: 4:47:02 - loss: 0.69 - ETA: 4:18:33 - loss: 0.69 - ETA: 3:55:35 - loss: 0.69 - ETA: 3:37:03 - loss: 0.70 - ETA: 3:21:30 - loss: 0.70 - ETA: 3:09:04 - loss: 0.70 - ETA: 2:57:52 - loss: 0.70 - ETA: 2:48:38 - loss: 0.70 - ETA: 2:40:03 - loss: 0.70 - ETA: 2:32:24 - loss: 0.71 - ETA: 2:25:45 - loss: 0.71 - ETA: 2:19:43 - loss: 0.70 - ETA: 2:14:19 - loss: 0.70 - ETA: 2:09:21 - loss: 0.70 - ETA: 2:04:50 - loss: 0.70 - ETA: 2:01:06 - loss: 0.70 - ETA: 1:57:43 - loss: 0.70 - ETA: 1:54:40 - loss: 0.70 - ETA: 1:51:44 - loss: 0.70 - ETA: 1:49:07 - loss: 0.70 - ETA: 1:46:23 - loss: 0.70 - ETA: 1:43:59 - loss: 0.70 - ETA: 1:41:31 - loss: 0.70 - ETA: 1:39:35 - loss: 0.70 - ETA: 1:37:39 - loss: 0.70 - ETA: 1:36:05 - loss: 0.70 - ETA: 1:34:27 - loss: 0.70 - ETA: 1:32:50 - loss: 0.69 - ETA: 1:31:14 - loss: 0.69 - ETA: 1:29:32 - loss: 0.70 - ETA: 1:28:01 - loss: 0.70 - ETA: 1:26:33 - loss: 0.70 - ETA: 1:25:06 - loss: 0.70 - ETA: 1:23:49 - loss: 0.70 - ETA: 1:22:38 - loss: 0.70 - ETA: 1:21:21 - loss: 0.70 - ETA: 1:20:18 - loss: 0.70 - ETA: 1:19:20 - loss: 0.70 - ETA: 1:18:29 - loss: 0.70 - ETA: 1:17:38 - loss: 0.70 - ETA: 1:16:41 - loss: 0.70 - ETA: 1:15:43 - loss: 0.70 - ETA: 1:14:52 - loss: 0.70 - ETA: 1:14:03 - loss: 0.70 - ETA: 1:13:12 - loss: 0.70 - ETA: 1:12:30 - loss: 0.70 - ETA: 1:11:43 - loss: 0.70 - ETA: 1:11:03 - loss: 0.70 - ETA: 1:10:23 - loss: 0.70 - ETA: 1:09:46 - loss: 0.70 - ETA: 1:09:17 - loss: 0.70 - ETA: 1:09:04 - loss: 0.70 - ETA: 1:08:36 - loss: 0.70 - ETA: 1:08:09 - loss: 0.70 - ETA: 1:07:44 - loss: 0.70 - ETA: 1:07:16 - loss: 0.70 - ETA: 1:06:44 - loss: 0.70 - ETA: 1:06:10 - loss: 0.70 - ETA: 1:05:39 - loss: 0.70 - ETA: 1:05:10 - loss: 0.70 - ETA: 1:04:44 - loss: 0.70 - ETA: 1:04:20 - loss: 0.70 - ETA: 1:03:53 - loss: 0.70 - ETA: 1:03:28 - loss: 0.70 - ETA: 1:03:05 - loss: 0.70 - ETA: 1:02:42 - loss: 0.70 - ETA: 1:02:17 - loss: 0.70 - ETA: 1:01:55 - loss: 0.70 - ETA: 1:01:35 - loss: 0.70 - ETA: 1:01:19 - loss: 0.70 - ETA: 1:01:04 - loss: 0.70 - ETA: 1:00:43 - loss: 0.70 - ETA: 1:00:22 - loss: 0.70 - ETA: 1:00:01 - loss: 0.70 - ETA: 59:42 - loss: 0.7010 - ETA: 59:25 - loss: 0.70 - ETA: 59:07 - loss: 0.70 - ETA: 58:50 - loss: 0.70 - ETA: 58:32 - loss: 0.70 - ETA: 58:18 - loss: 0.70 - ETA: 58:01 - loss: 0.70 - ETA: 57:47 - loss: 0.70 - ETA: 57:35 - loss: 0.70 - ETA: 57:23 - loss: 0.70 - ETA: 57:11 - loss: 0.70 - ETA: 57:00 - loss: 0.70 - ETA: 56:48 - loss: 0.70 - ETA: 56:38 - loss: 0.70 - ETA: 56:24 - loss: 0.70 - ETA: 56:08 - loss: 0.70 - ETA: 55:54 - loss: 0.70 - ETA: 55:40 - loss: 0.70 - ETA: 55:27 - loss: 0.70 - ETA: 55:16 - loss: 0.70 - ETA: 55:05 - loss: 0.70 - ETA: 54:54 - loss: 0.70 - ETA: 54:42 - loss: 0.70 - ETA: 54:28 - loss: 0.70 - ETA: 54:21 - loss: 0.70 - ETA: 54:11 - loss: 0.70 - ETA: 54:01 - loss: 0.70 - ETA: 53:49 - loss: 0.70 - ETA: 53:41 - loss: 0.70 - ETA: 53:32 - loss: 0.70 - ETA: 53:23 - loss: 0.70 - ETA: 53:13 - loss: 0.70 - ETA: 53:04 - loss: 0.69 - ETA: 52:53 - loss: 0.69 - ETA: 52:45 - loss: 0.69 - ETA: 52:35 - loss: 0.69 - ETA: 52:28 - loss: 0.69 - ETA: 52:18 - loss: 0.69 - ETA: 52:06 - loss: 0.69 - ETA: 51:55 - loss: 0.69 - ETA: 51:45 - loss: 0.69 - ETA: 51:38 - loss: 0.69 - ETA: 51:28 - loss: 0.69 - ETA: 51:17 - loss: 0.69 - ETA: 51:08 - loss: 0.69 - ETA: 51:00 - loss: 0.69 - ETA: 50:51 - loss: 0.69 - ETA: 50:42 - loss: 0.69 - ETA: 50:34 - loss: 0.69 - ETA: 50:24 - loss: 0.69 - ETA: 50:17 - loss: 0.69 - ETA: 50:08 - loss: 0.69 - ETA: 49:59 - loss: 0.69 - ETA: 49:51 - loss: 0.69 - ETA: 49:44 - loss: 0.69 - ETA: 49:37 - loss: 0.69 - ETA: 49:30 - loss: 0.69 - ETA: 49:24 - loss: 0.69 - ETA: 49:16 - loss: 0.69 - ETA: 49:10 - loss: 0.69 - ETA: 49:04 - loss: 0.69 - ETA: 48:59 - loss: 0.69 - ETA: 48:52 - loss: 0.69 - ETA: 48:46 - loss: 0.69 - ETA: 48:38 - loss: 0.69 - ETA: 48:31 - loss: 0.69 - ETA: 48:26 - loss: 0.70 - ETA: 48:21 - loss: 0.69 - ETA: 48:13 - loss: 0.69 - ETA: 48:10 - loss: 0.69 - ETA: 48:03 - loss: 0.69 - ETA: 47:56 - loss: 0.69 - ETA: 47:49 - loss: 0.69 - ETA: 47:47 - loss: 0.69 - ETA: 47:42 - loss: 0.69 - ETA: 47:36 - loss: 0.69 - ETA: 47:28 - loss: 0.69 - ETA: 47:22 - loss: 0.69 - ETA: 47:17 - loss: 0.69 - ETA: 47:11 - loss: 0.69 - ETA: 47:05 - loss: 0.69 - ETA: 46:59 - loss: 0.69 - ETA: 46:53 - loss: 0.69 - ETA: 46:46 - loss: 0.69 - ETA: 46:43 - loss: 0.69 - ETA: 46:35 - loss: 0.69 - ETA: 46:31 - loss: 0.69 - ETA: 46:25 - loss: 0.69 - ETA: 46:19 - loss: 0.69 - ETA: 46:14 - loss: 0.69 - ETA: 46:12 - loss: 0.69 - ETA: 46:09 - loss: 0.69 - ETA: 46:07 - loss: 0.69 - ETA: 46:02 - loss: 0.69 - ETA: 45:59 - loss: 0.69 - ETA: 45:52 - loss: 0.69 - ETA: 45:48 - loss: 0.69 - ETA: 45:42 - loss: 0.69 - ETA: 45:40 - loss: 0.69 - ETA: 45:35 - loss: 0.69 - ETA: 45:30 - loss: 0.69 - ETA: 45:24 - loss: 0.69 - ETA: 45:20 - loss: 0.69 - ETA: 45:15 - loss: 0.69 - ETA: 45:09 - loss: 0.69 - ETA: 45:04 - loss: 0.69 - ETA: 45:01 - loss: 0.69 - ETA: 44:56 - loss: 0.69 - ETA: 44:51 - loss: 0.69 - ETA: 44:46 - loss: 0.69 - ETA: 44:41 - loss: 0.69 - ETA: 44:36 - loss: 0.69 - ETA: 44:30 - loss: 0.69 - ETA: 44:25 - loss: 0.69 - ETA: 44:20 - loss: 0.69 - ETA: 44:15 - loss: 0.69 - ETA: 44:10 - loss: 0.69 - ETA: 44:05 - loss: 0.69 - ETA: 44:01 - loss: 0.69 - ETA: 43:56 - loss: 0.69 - ETA: 43:52 - loss: 0.69 - ETA: 43:47 - loss: 0.69 - ETA: 43:41 - loss: 0.69 - ETA: 43:36 - loss: 0.69 - ETA: 43:31 - loss: 0.69 - ETA: 43:27 - loss: 0.69 - ETA: 43:22 - loss: 0.69 - ETA: 43:17 - loss: 0.69 - ETA: 43:12 - loss: 0.69 - ETA: 43:08 - loss: 0.69 - ETA: 43:03 - loss: 0.69 - ETA: 43:00 - loss: 0.69 - ETA: 42:55 - loss: 0.69 - ETA: 42:51 - loss: 0.69 - ETA: 42:46 - loss: 0.69 - ETA: 42:42 - loss: 0.69 - ETA: 42:38 - loss: 0.69 - ETA: 42:33 - loss: 0.69 - ETA: 42:30 - loss: 0.69 - ETA: 42:25 - loss: 0.69 - ETA: 42:21 - loss: 0.69 - ETA: 42:16 - loss: 0.69 - ETA: 42:13 - loss: 0.69 - ETA: 42:10 - loss: 0.69 - ETA: 42:06 - loss: 0.69 - ETA: 42:02 - loss: 0.69 - ETA: 41:59 - loss: 0.69 - ETA: 41:55 - loss: 0.69 - ETA: 41:51 - loss: 0.69 - ETA: 41:48 - loss: 0.69 - ETA: 41:44 - loss: 0.69 - ETA: 41:41 - loss: 0.69 - ETA: 41:37 - loss: 0.69 - ETA: 41:33 - loss: 0.69 - ETA: 41:29 - loss: 0.69 - ETA: 41:25 - loss: 0.69 - ETA: 41:21 - loss: 0.69 - ETA: 41:18 - loss: 0.69 - ETA: 41:15 - loss: 0.69 - ETA: 41:12 - loss: 0.69 - ETA: 41:10 - loss: 0.69 - ETA: 41:06 - loss: 0.69 - ETA: 41:02 - loss: 0.69 - ETA: 40:59 - loss: 0.69 - ETA: 40:55 - loss: 0.69 - ETA: 40:51 - loss: 0.69 - ETA: 40:47 - loss: 0.69 - ETA: 40:45 - loss: 0.69 - ETA: 40:43 - loss: 0.69 - ETA: 40:41 - loss: 0.69 - ETA: 40:39 - loss: 0.69 - ETA: 40:37 - loss: 0.69 - ETA: 40:35 - loss: 0.69 - ETA: 40:32 - loss: 0.69 - ETA: 40:30 - loss: 0.69 - ETA: 40:27 - loss: 0.69 - ETA: 40:25 - loss: 0.69 - ETA: 40:22 - loss: 0.69 - ETA: 40:20 - loss: 0.69 - ETA: 40:21 - loss: 0.69 - ETA: 40:18 - loss: 0.69 - ETA: 40:17 - loss: 0.69 - ETA: 40:17 - loss: 0.69 - ETA: 40:15 - loss: 0.69 - ETA: 40:14 - loss: 0.69 - ETA: 40:13 - loss: 0.69 - ETA: 40:11 - loss: 0.69 - ETA: 40:08 - loss: 0.69 - ETA: 40:06 - loss: 0.69 - ETA: 40:04 - loss: 0.69 - ETA: 40:03 - loss: 0.69 - ETA: 40:02 - loss: 0.69 - ETA: 40:00 - loss: 0.69 - ETA: 39:59 - loss: 0.69 - ETA: 39:58 - loss: 0.69 - ETA: 39:57 - loss: 0.69 - ETA: 39:55 - loss: 0.69 - ETA: 39:53 - loss: 0.69 - ETA: 39:51 - loss: 0.69 - ETA: 39:49 - loss: 0.69 - ETA: 39:49 - loss: 0.69 - ETA: 39:49 - loss: 0.69 - ETA: 39:50 - loss: 0.69 - ETA: 39:49 - loss: 0.69 - ETA: 39:49 - loss: 0.69 - ETA: 39:49 - loss: 0.69 - ETA: 39:47 - loss: 0.69 - ETA: 39:48 - loss: 0.69 - ETA: 39:47 - loss: 0.69 - ETA: 39:46 - loss: 0.69 - ETA: 39:45 - loss: 0.69 - ETA: 39:44 - loss: 0.69 - ETA: 39:46 - loss: 0.69 - ETA: 39:47 - loss: 0.69 - ETA: 39:47 - loss: 0.69 - ETA: 39:47 - loss: 0.69 - ETA: 39:47 - loss: 0.69 - ETA: 39:47 - loss: 0.69 - ETA: 39:47 - loss: 0.69 - ETA: 39:47 - loss: 0.69 - ETA: 39:48 - loss: 0.69 - ETA: 39:46 - loss: 0.69 - ETA: 39:45 - loss: 0.69 - ETA: 39:43 - loss: 0.69 19808/934781 [..............................] - ETA: 39:44 - loss: 0.69 - ETA: 39:45 - loss: 0.69 - ETA: 39:44 - loss: 0.69 - ETA: 39:44 - loss: 0.69 - ETA: 39:43 - loss: 0.69 - ETA: 39:43 - loss: 0.69 - ETA: 39:42 - loss: 0.69 - ETA: 39:42 - loss: 0.69 - ETA: 39:41 - loss: 0.69 - ETA: 39:41 - loss: 0.69 - ETA: 39:41 - loss: 0.69 - ETA: 39:40 - loss: 0.69 - ETA: 39:39 - loss: 0.69 - ETA: 39:38 - loss: 0.69 - ETA: 39:37 - loss: 0.69 - ETA: 39:37 - loss: 0.69 - ETA: 39:36 - loss: 0.69 - ETA: 39:36 - loss: 0.69 - ETA: 39:35 - loss: 0.69 - ETA: 39:34 - loss: 0.69 - ETA: 39:34 - loss: 0.69 - ETA: 39:34 - loss: 0.69 - ETA: 39:32 - loss: 0.69 - ETA: 39:32 - loss: 0.69 - ETA: 39:30 - loss: 0.69 - ETA: 39:28 - loss: 0.69 - ETA: 39:27 - loss: 0.69 - ETA: 39:27 - loss: 0.69 - ETA: 39:27 - loss: 0.69 - ETA: 39:25 - loss: 0.69 - ETA: 39:25 - loss: 0.69 - ETA: 39:24 - loss: 0.69 - ETA: 39:23 - loss: 0.69 - ETA: 39:22 - loss: 0.69 - ETA: 39:23 - loss: 0.69 - ETA: 39:21 - loss: 0.69 - ETA: 39:20 - loss: 0.69 - ETA: 39:19 - loss: 0.69 - ETA: 39:17 - loss: 0.69 - ETA: 39:15 - loss: 0.69 - ETA: 39:14 - loss: 0.69 - ETA: 39:13 - loss: 0.69 - ETA: 39:12 - loss: 0.69 - ETA: 39:11 - loss: 0.69 - ETA: 39:11 - loss: 0.69 - ETA: 39:10 - loss: 0.69 - ETA: 39:10 - loss: 0.69 - ETA: 39:08 - loss: 0.69 - ETA: 39:07 - loss: 0.69 - ETA: 39:05 - loss: 0.69 - ETA: 39:03 - loss: 0.69 - ETA: 39:02 - loss: 0.69 - ETA: 39:00 - loss: 0.69 - ETA: 38:58 - loss: 0.69 - ETA: 38:57 - loss: 0.69 - ETA: 38:57 - loss: 0.69 - ETA: 38:55 - loss: 0.69 - ETA: 38:54 - loss: 0.69 - ETA: 38:53 - loss: 0.69 - ETA: 38:53 - loss: 0.69 - ETA: 38:52 - loss: 0.69 - ETA: 38:51 - loss: 0.69 - ETA: 38:49 - loss: 0.69 - ETA: 38:48 - loss: 0.69 - ETA: 38:47 - loss: 0.69 - ETA: 38:46 - loss: 0.69 - ETA: 38:44 - loss: 0.69 - ETA: 38:44 - loss: 0.69 - ETA: 38:42 - loss: 0.69 - ETA: 38:41 - loss: 0.69 - ETA: 38:40 - loss: 0.69 - ETA: 38:39 - loss: 0.69 - ETA: 38:38 - loss: 0.69 - ETA: 38:37 - loss: 0.69 - ETA: 38:36 - loss: 0.69 - ETA: 38:35 - loss: 0.69 - ETA: 38:34 - loss: 0.69 - ETA: 38:32 - loss: 0.69 - ETA: 38:31 - loss: 0.69 - ETA: 38:30 - loss: 0.69 - ETA: 38:30 - loss: 0.69 - ETA: 38:29 - loss: 0.69 - ETA: 38:28 - loss: 0.69 - ETA: 38:27 - loss: 0.69 - ETA: 38:26 - loss: 0.69 - ETA: 38:24 - loss: 0.69 - ETA: 38:23 - loss: 0.69 - ETA: 38:21 - loss: 0.69 - ETA: 38:19 - loss: 0.69 - ETA: 38:18 - loss: 0.69 - ETA: 38:18 - loss: 0.69 - ETA: 38:17 - loss: 0.69 - ETA: 38:16 - loss: 0.69 - ETA: 38:14 - loss: 0.69 - ETA: 38:13 - loss: 0.69 - ETA: 38:11 - loss: 0.69 - ETA: 38:11 - loss: 0.69 - ETA: 38:10 - loss: 0.69 - ETA: 38:10 - loss: 0.69 - ETA: 38:08 - loss: 0.69 - ETA: 38:07 - loss: 0.69 - ETA: 38:06 - loss: 0.69 - ETA: 38:05 - loss: 0.69 - ETA: 38:04 - loss: 0.69 - ETA: 38:03 - loss: 0.69 - ETA: 38:02 - loss: 0.69 - ETA: 38:01 - loss: 0.69 - ETA: 38:00 - loss: 0.69 - ETA: 38:00 - loss: 0.69 - ETA: 37:59 - loss: 0.69 - ETA: 37:58 - loss: 0.69 - ETA: 37:57 - loss: 0.69 - ETA: 37:56 - loss: 0.69 - ETA: 37:54 - loss: 0.69 - ETA: 37:53 - loss: 0.69 - ETA: 37:52 - loss: 0.69 - ETA: 37:51 - loss: 0.69 - ETA: 37:50 - loss: 0.69 - ETA: 37:49 - loss: 0.69 - ETA: 37:48 - loss: 0.69 - ETA: 37:47 - loss: 0.69 - ETA: 37:46 - loss: 0.69 - ETA: 37:44 - loss: 0.69 - ETA: 37:44 - loss: 0.69 - ETA: 37:42 - loss: 0.69 - ETA: 37:41 - loss: 0.69 - ETA: 37:40 - loss: 0.69 - ETA: 37:40 - loss: 0.69 - ETA: 37:40 - loss: 0.69 - ETA: 37:39 - loss: 0.69 - ETA: 37:38 - loss: 0.69 - ETA: 37:37 - loss: 0.69 - ETA: 37:36 - loss: 0.69 - ETA: 37:35 - loss: 0.69 - ETA: 37:35 - loss: 0.69 - ETA: 37:34 - loss: 0.69 - ETA: 37:32 - loss: 0.69 - ETA: 37:31 - loss: 0.69 - ETA: 37:31 - loss: 0.69 - ETA: 37:30 - loss: 0.69 - ETA: 37:30 - loss: 0.69 - ETA: 37:29 - loss: 0.69 - ETA: 37:28 - loss: 0.69 - ETA: 37:28 - loss: 0.69 - ETA: 37:27 - loss: 0.69 - ETA: 37:26 - loss: 0.69 - ETA: 37:25 - loss: 0.69 - ETA: 37:25 - loss: 0.69 - ETA: 37:25 - loss: 0.69 - ETA: 37:26 - loss: 0.69 - ETA: 37:25 - loss: 0.69 - ETA: 37:24 - loss: 0.69 - ETA: 37:24 - loss: 0.69 - ETA: 37:23 - loss: 0.69 - ETA: 37:22 - loss: 0.69 - ETA: 37:22 - loss: 0.69 - ETA: 37:22 - loss: 0.69 - ETA: 37:21 - loss: 0.69 - ETA: 37:20 - loss: 0.69 - ETA: 37:18 - loss: 0.69 - ETA: 37:17 - loss: 0.69 - ETA: 37:16 - loss: 0.69 - ETA: 37:14 - loss: 0.69 - ETA: 37:13 - loss: 0.69 - ETA: 37:13 - loss: 0.69 - ETA: 37:12 - loss: 0.69 - ETA: 37:11 - loss: 0.69 - ETA: 37:10 - loss: 0.69 - ETA: 37:09 - loss: 0.69 - ETA: 37:08 - loss: 0.69 - ETA: 37:07 - loss: 0.69 - ETA: 37:06 - loss: 0.69 - ETA: 37:05 - loss: 0.69 - ETA: 37:04 - loss: 0.69 - ETA: 37:03 - loss: 0.69 - ETA: 37:02 - loss: 0.69 - ETA: 37:01 - loss: 0.69 - ETA: 37:01 - loss: 0.69 - ETA: 37:00 - loss: 0.69 - ETA: 36:59 - loss: 0.69 - ETA: 36:59 - loss: 0.69 - ETA: 36:58 - loss: 0.69 - ETA: 36:57 - loss: 0.69 - ETA: 36:55 - loss: 0.69 - ETA: 36:55 - loss: 0.69 - ETA: 36:55 - loss: 0.69 - ETA: 36:54 - loss: 0.69 - ETA: 36:53 - loss: 0.69 - ETA: 36:52 - loss: 0.69 - ETA: 36:51 - loss: 0.69 - ETA: 36:50 - loss: 0.69 - ETA: 36:49 - loss: 0.69 - ETA: 36:48 - loss: 0.69 - ETA: 36:47 - loss: 0.69 - ETA: 36:46 - loss: 0.69 - ETA: 36:46 - loss: 0.69 - ETA: 36:44 - loss: 0.69 - ETA: 36:43 - loss: 0.69 - ETA: 36:43 - loss: 0.69 - ETA: 36:42 - loss: 0.69 - ETA: 36:41 - loss: 0.69 - ETA: 36:40 - loss: 0.69 - ETA: 36:39 - loss: 0.69 - ETA: 36:38 - loss: 0.69 - ETA: 36:38 - loss: 0.69 - ETA: 36:38 - loss: 0.69 - ETA: 36:37 - loss: 0.69 - ETA: 36:36 - loss: 0.69 - ETA: 36:36 - loss: 0.69 - ETA: 36:35 - loss: 0.69 - ETA: 36:35 - loss: 0.69 - ETA: 36:35 - loss: 0.69 - ETA: 36:34 - loss: 0.69 - ETA: 36:33 - loss: 0.69 - ETA: 36:32 - loss: 0.69 - ETA: 36:31 - loss: 0.69 - ETA: 36:30 - loss: 0.69 - ETA: 36:29 - loss: 0.69 - ETA: 36:29 - loss: 0.69 - ETA: 36:28 - loss: 0.69 - ETA: 36:27 - loss: 0.69 - ETA: 36:26 - loss: 0.69 - ETA: 36:25 - loss: 0.69 - ETA: 36:25 - loss: 0.69 - ETA: 36:24 - loss: 0.69 - ETA: 36:22 - loss: 0.69 - ETA: 36:21 - loss: 0.69 - ETA: 36:21 - loss: 0.69 - ETA: 36:20 - loss: 0.69 - ETA: 36:19 - loss: 0.69 - ETA: 36:18 - loss: 0.69 - ETA: 36:17 - loss: 0.69 - ETA: 36:16 - loss: 0.69 - ETA: 36:16 - loss: 0.69 - ETA: 36:16 - loss: 0.69 - ETA: 36:15 - loss: 0.69 - ETA: 36:14 - loss: 0.69 - ETA: 36:13 - loss: 0.69 - ETA: 36:13 - loss: 0.69 - ETA: 36:13 - loss: 0.69 - ETA: 36:11 - loss: 0.69 - ETA: 36:10 - loss: 0.69 - ETA: 36:10 - loss: 0.69 - ETA: 36:09 - loss: 0.69 - ETA: 36:09 - loss: 0.69 - ETA: 36:08 - loss: 0.69 - ETA: 36:07 - loss: 0.69 - ETA: 36:07 - loss: 0.69 - ETA: 36:06 - loss: 0.69 - ETA: 36:05 - loss: 0.69 - ETA: 36:04 - loss: 0.69 - ETA: 36:03 - loss: 0.69 - ETA: 36:03 - loss: 0.69 - ETA: 36:02 - loss: 0.69 - ETA: 36:02 - loss: 0.69 - ETA: 36:01 - loss: 0.69 - ETA: 36:01 - loss: 0.69 - ETA: 35:59 - loss: 0.69 - ETA: 35:59 - loss: 0.69 - ETA: 35:59 - loss: 0.69 - ETA: 35:58 - loss: 0.69 - ETA: 35:57 - loss: 0.69 - ETA: 35:56 - loss: 0.69 - ETA: 35:56 - loss: 0.69 - ETA: 35:55 - loss: 0.69 - ETA: 35:54 - loss: 0.69 - ETA: 35:53 - loss: 0.69 - ETA: 35:53 - loss: 0.69 - ETA: 35:52 - loss: 0.69 - ETA: 35:51 - loss: 0.69 - ETA: 35:50 - loss: 0.69 - ETA: 35:50 - loss: 0.69 - ETA: 35:50 - loss: 0.69 - ETA: 35:51 - loss: 0.69 - ETA: 35:50 - loss: 0.69 - ETA: 35:50 - loss: 0.69 - ETA: 35:50 - loss: 0.69 - ETA: 35:49 - loss: 0.69 - ETA: 35:48 - loss: 0.69 - ETA: 35:47 - loss: 0.69 - ETA: 35:47 - loss: 0.69 - ETA: 35:46 - loss: 0.69 - ETA: 35:46 - loss: 0.69 - ETA: 35:45 - loss: 0.69 - ETA: 35:44 - loss: 0.69 - ETA: 35:43 - loss: 0.69 - ETA: 35:43 - loss: 0.69 - ETA: 35:42 - loss: 0.69 - ETA: 35:41 - loss: 0.69 - ETA: 35:40 - loss: 0.69 - ETA: 35:40 - loss: 0.69 - ETA: 35:39 - loss: 0.69 - ETA: 35:38 - loss: 0.69 - ETA: 35:37 - loss: 0.69 - ETA: 35:36 - loss: 0.69 - ETA: 35:36 - loss: 0.69 - ETA: 35:35 - loss: 0.69 - ETA: 35:34 - loss: 0.69 - ETA: 35:33 - loss: 0.69 - ETA: 35:34 - loss: 0.69 - ETA: 35:33 - loss: 0.69 - ETA: 35:33 - loss: 0.69 - ETA: 35:33 - loss: 0.69 - ETA: 35:32 - loss: 0.69 - ETA: 35:31 - loss: 0.69 - ETA: 35:31 - loss: 0.69 - ETA: 35:30 - loss: 0.69 - ETA: 35:30 - loss: 0.69 - ETA: 35:30 - loss: 0.69 - ETA: 35:29 - loss: 0.69 - ETA: 35:29 - loss: 0.69 - ETA: 35:28 - loss: 0.69 - ETA: 35:28 - loss: 0.69 - ETA: 35:27 - loss: 0.6946"
     ]
    },
    {
     "name": "stdout",
     "output_type": "stream",
     "text": [
      " 29856/934781 [..............................] - ETA: 35:26 - loss: 0.69 - ETA: 35:26 - loss: 0.69 - ETA: 35:25 - loss: 0.69 - ETA: 35:24 - loss: 0.69 - ETA: 35:24 - loss: 0.69 - ETA: 35:23 - loss: 0.69 - ETA: 35:22 - loss: 0.69 - ETA: 35:22 - loss: 0.69 - ETA: 35:22 - loss: 0.69 - ETA: 35:21 - loss: 0.69 - ETA: 35:20 - loss: 0.69 - ETA: 35:19 - loss: 0.69 - ETA: 35:18 - loss: 0.69 - ETA: 35:17 - loss: 0.69 - ETA: 35:16 - loss: 0.69 - ETA: 35:16 - loss: 0.69 - ETA: 35:15 - loss: 0.69 - ETA: 35:14 - loss: 0.69 - ETA: 35:13 - loss: 0.69 - ETA: 35:12 - loss: 0.69 - ETA: 35:11 - loss: 0.69 - ETA: 35:10 - loss: 0.69 - ETA: 35:10 - loss: 0.69 - ETA: 35:09 - loss: 0.69 - ETA: 35:08 - loss: 0.69 - ETA: 35:08 - loss: 0.69 - ETA: 35:07 - loss: 0.69 - ETA: 35:06 - loss: 0.69 - ETA: 35:05 - loss: 0.69 - ETA: 35:05 - loss: 0.69 - ETA: 35:04 - loss: 0.69 - ETA: 35:04 - loss: 0.69 - ETA: 35:04 - loss: 0.69 - ETA: 35:03 - loss: 0.69 - ETA: 35:02 - loss: 0.69 - ETA: 35:01 - loss: 0.69 - ETA: 35:01 - loss: 0.69 - ETA: 35:00 - loss: 0.69 - ETA: 34:59 - loss: 0.69 - ETA: 34:58 - loss: 0.69 - ETA: 34:57 - loss: 0.69 - ETA: 34:57 - loss: 0.69 - ETA: 34:56 - loss: 0.69 - ETA: 34:55 - loss: 0.69 - ETA: 34:54 - loss: 0.69 - ETA: 34:54 - loss: 0.69 - ETA: 34:53 - loss: 0.69 - ETA: 34:52 - loss: 0.69 - ETA: 34:51 - loss: 0.69 - ETA: 34:50 - loss: 0.69 - ETA: 34:50 - loss: 0.69 - ETA: 34:50 - loss: 0.69 - ETA: 34:49 - loss: 0.69 - ETA: 34:49 - loss: 0.69 - ETA: 34:49 - loss: 0.69 - ETA: 34:49 - loss: 0.69 - ETA: 34:48 - loss: 0.69 - ETA: 34:48 - loss: 0.69 - ETA: 34:48 - loss: 0.69 - ETA: 34:48 - loss: 0.69 - ETA: 34:48 - loss: 0.69 - ETA: 34:48 - loss: 0.69 - ETA: 34:47 - loss: 0.69 - ETA: 34:47 - loss: 0.69 - ETA: 34:48 - loss: 0.69 - ETA: 34:48 - loss: 0.69 - ETA: 34:47 - loss: 0.69 - ETA: 34:47 - loss: 0.69 - ETA: 34:48 - loss: 0.69 - ETA: 34:48 - loss: 0.69 - ETA: 34:48 - loss: 0.69 - ETA: 34:49 - loss: 0.69 - ETA: 34:49 - loss: 0.69 - ETA: 34:49 - loss: 0.69 - ETA: 34:49 - loss: 0.69 - ETA: 34:50 - loss: 0.69 - ETA: 34:50 - loss: 0.69 - ETA: 34:50 - loss: 0.69 - ETA: 34:50 - loss: 0.69 - ETA: 34:51 - loss: 0.69 - ETA: 34:50 - loss: 0.69 - ETA: 34:50 - loss: 0.69 - ETA: 34:49 - loss: 0.69 - ETA: 34:49 - loss: 0.69 - ETA: 34:48 - loss: 0.69 - ETA: 34:48 - loss: 0.69 - ETA: 34:47 - loss: 0.69 - ETA: 34:47 - loss: 0.69 - ETA: 34:46 - loss: 0.69 - ETA: 34:46 - loss: 0.69 - ETA: 34:45 - loss: 0.69 - ETA: 34:45 - loss: 0.69 - ETA: 34:44 - loss: 0.69 - ETA: 34:44 - loss: 0.69 - ETA: 34:43 - loss: 0.69 - ETA: 34:42 - loss: 0.69 - ETA: 34:42 - loss: 0.69 - ETA: 34:42 - loss: 0.69 - ETA: 34:41 - loss: 0.69 - ETA: 34:40 - loss: 0.69 - ETA: 34:40 - loss: 0.69 - ETA: 34:40 - loss: 0.69 - ETA: 34:39 - loss: 0.69 - ETA: 34:39 - loss: 0.69 - ETA: 34:39 - loss: 0.69 - ETA: 34:38 - loss: 0.69 - ETA: 34:38 - loss: 0.69 - ETA: 34:37 - loss: 0.69 - ETA: 34:37 - loss: 0.69 - ETA: 34:37 - loss: 0.69 - ETA: 34:36 - loss: 0.69 - ETA: 34:36 - loss: 0.69 - ETA: 34:36 - loss: 0.69 - ETA: 34:35 - loss: 0.69 - ETA: 34:36 - loss: 0.69 - ETA: 34:35 - loss: 0.69 - ETA: 34:35 - loss: 0.69 - ETA: 34:34 - loss: 0.69 - ETA: 34:34 - loss: 0.69 - ETA: 34:34 - loss: 0.69 - ETA: 34:33 - loss: 0.69 - ETA: 34:33 - loss: 0.69 - ETA: 34:33 - loss: 0.69 - ETA: 34:32 - loss: 0.69 - ETA: 34:32 - loss: 0.69 - ETA: 34:31 - loss: 0.69 - ETA: 34:31 - loss: 0.69 - ETA: 34:30 - loss: 0.69 - ETA: 34:30 - loss: 0.69 - ETA: 34:29 - loss: 0.69 - ETA: 34:29 - loss: 0.69 - ETA: 34:28 - loss: 0.69 - ETA: 34:28 - loss: 0.69 - ETA: 34:28 - loss: 0.69 - ETA: 34:27 - loss: 0.69 - ETA: 34:26 - loss: 0.69 - ETA: 34:26 - loss: 0.69 - ETA: 34:25 - loss: 0.69 - ETA: 34:25 - loss: 0.69 - ETA: 34:25 - loss: 0.69 - ETA: 34:25 - loss: 0.69 - ETA: 34:26 - loss: 0.69 - ETA: 34:26 - loss: 0.69 - ETA: 34:28 - loss: 0.69 - ETA: 34:29 - loss: 0.69 - ETA: 34:30 - loss: 0.69 - ETA: 34:30 - loss: 0.69 - ETA: 34:30 - loss: 0.69 - ETA: 34:30 - loss: 0.69 - ETA: 34:30 - loss: 0.69 - ETA: 34:31 - loss: 0.69 - ETA: 34:31 - loss: 0.69 - ETA: 34:30 - loss: 0.69 - ETA: 34:30 - loss: 0.69 - ETA: 34:29 - loss: 0.69 - ETA: 34:29 - loss: 0.69 - ETA: 34:28 - loss: 0.69 - ETA: 34:29 - loss: 0.69 - ETA: 34:28 - loss: 0.69 - ETA: 34:29 - loss: 0.69 - ETA: 34:29 - loss: 0.69 - ETA: 34:29 - loss: 0.69 - ETA: 34:29 - loss: 0.69 - ETA: 34:29 - loss: 0.69 - ETA: 34:29 - loss: 0.69 - ETA: 34:29 - loss: 0.69 - ETA: 34:29 - loss: 0.69 - ETA: 34:28 - loss: 0.69 - ETA: 34:28 - loss: 0.69 - ETA: 34:28 - loss: 0.69 - ETA: 34:27 - loss: 0.69 - ETA: 34:27 - loss: 0.69 - ETA: 34:27 - loss: 0.69 - ETA: 34:27 - loss: 0.69 - ETA: 34:26 - loss: 0.69 - ETA: 34:26 - loss: 0.69 - ETA: 34:26 - loss: 0.69 - ETA: 34:25 - loss: 0.69 - ETA: 34:25 - loss: 0.69 - ETA: 34:25 - loss: 0.69 - ETA: 34:25 - loss: 0.69 - ETA: 34:24 - loss: 0.69 - ETA: 34:24 - loss: 0.69 - ETA: 34:24 - loss: 0.69 - ETA: 34:24 - loss: 0.69 - ETA: 34:25 - loss: 0.69 - ETA: 34:25 - loss: 0.69 - ETA: 34:26 - loss: 0.69 - ETA: 34:27 - loss: 0.69 - ETA: 34:27 - loss: 0.69 - ETA: 34:27 - loss: 0.69 - ETA: 34:27 - loss: 0.69 - ETA: 34:27 - loss: 0.69 - ETA: 34:27 - loss: 0.69 - ETA: 34:27 - loss: 0.69 - ETA: 34:26 - loss: 0.69 - ETA: 34:26 - loss: 0.69 - ETA: 34:26 - loss: 0.69 - ETA: 34:26 - loss: 0.69 - ETA: 34:25 - loss: 0.69 - ETA: 34:25 - loss: 0.69 - ETA: 34:25 - loss: 0.69 - ETA: 34:24 - loss: 0.69 - ETA: 34:23 - loss: 0.69 - ETA: 34:23 - loss: 0.69 - ETA: 34:22 - loss: 0.69 - ETA: 34:22 - loss: 0.69 - ETA: 34:22 - loss: 0.69 - ETA: 34:22 - loss: 0.69 - ETA: 34:22 - loss: 0.69 - ETA: 34:22 - loss: 0.69 - ETA: 34:22 - loss: 0.69 - ETA: 34:23 - loss: 0.69 - ETA: 34:22 - loss: 0.69 - ETA: 34:21 - loss: 0.69 - ETA: 34:21 - loss: 0.69 - ETA: 34:20 - loss: 0.69 - ETA: 34:20 - loss: 0.69 - ETA: 34:19 - loss: 0.69 - ETA: 34:18 - loss: 0.69 - ETA: 34:18 - loss: 0.69 - ETA: 34:17 - loss: 0.69 - ETA: 34:17 - loss: 0.69 - ETA: 34:16 - loss: 0.69 - ETA: 34:16 - loss: 0.69 - ETA: 34:15 - loss: 0.69 - ETA: 34:15 - loss: 0.69 - ETA: 34:14 - loss: 0.69 - ETA: 34:13 - loss: 0.69 - ETA: 34:13 - loss: 0.69 - ETA: 34:12 - loss: 0.69 - ETA: 34:12 - loss: 0.69 - ETA: 34:11 - loss: 0.69 - ETA: 34:10 - loss: 0.69 - ETA: 34:10 - loss: 0.69 - ETA: 34:09 - loss: 0.69 - ETA: 34:08 - loss: 0.69 - ETA: 34:08 - loss: 0.69 - ETA: 34:07 - loss: 0.69 - ETA: 34:07 - loss: 0.69 - ETA: 34:06 - loss: 0.69 - ETA: 34:05 - loss: 0.69 - ETA: 34:05 - loss: 0.69 - ETA: 34:04 - loss: 0.69 - ETA: 34:04 - loss: 0.69 - ETA: 34:03 - loss: 0.69 - ETA: 34:02 - loss: 0.69 - ETA: 34:02 - loss: 0.69 - ETA: 34:01 - loss: 0.69 - ETA: 34:01 - loss: 0.69 - ETA: 34:00 - loss: 0.69 - ETA: 34:00 - loss: 0.69 - ETA: 33:59 - loss: 0.69 - ETA: 33:58 - loss: 0.69 - ETA: 33:58 - loss: 0.69 - ETA: 33:57 - loss: 0.69 - ETA: 33:57 - loss: 0.69 - ETA: 33:56 - loss: 0.69 - ETA: 33:55 - loss: 0.69 - ETA: 33:55 - loss: 0.69 - ETA: 33:54 - loss: 0.69 - ETA: 33:53 - loss: 0.69 - ETA: 33:53 - loss: 0.69 - ETA: 33:52 - loss: 0.69 - ETA: 33:52 - loss: 0.69 - ETA: 33:51 - loss: 0.69 - ETA: 33:51 - loss: 0.69 - ETA: 33:50 - loss: 0.69 - ETA: 33:50 - loss: 0.69 - ETA: 33:49 - loss: 0.69 - ETA: 33:49 - loss: 0.69 - ETA: 33:48 - loss: 0.69 - ETA: 33:47 - loss: 0.69 - ETA: 33:47 - loss: 0.69 - ETA: 33:46 - loss: 0.69 - ETA: 33:46 - loss: 0.69 - ETA: 33:45 - loss: 0.69 - ETA: 33:44 - loss: 0.69 - ETA: 33:44 - loss: 0.69 - ETA: 33:43 - loss: 0.69 - ETA: 33:43 - loss: 0.69 - ETA: 33:42 - loss: 0.69 - ETA: 33:42 - loss: 0.69 - ETA: 33:41 - loss: 0.69 - ETA: 33:41 - loss: 0.69 - ETA: 33:40 - loss: 0.69 - ETA: 33:39 - loss: 0.69 - ETA: 33:39 - loss: 0.69 - ETA: 33:38 - loss: 0.69 - ETA: 33:38 - loss: 0.69 - ETA: 33:38 - loss: 0.69 - ETA: 33:37 - loss: 0.69 - ETA: 33:37 - loss: 0.69 - ETA: 33:36 - loss: 0.69 - ETA: 33:36 - loss: 0.69 - ETA: 33:35 - loss: 0.69 - ETA: 33:34 - loss: 0.69 - ETA: 33:34 - loss: 0.69 - ETA: 33:33 - loss: 0.69 - ETA: 33:33 - loss: 0.69 - ETA: 33:32 - loss: 0.69 - ETA: 33:32 - loss: 0.69 - ETA: 33:31 - loss: 0.69 - ETA: 33:31 - loss: 0.69 - ETA: 33:30 - loss: 0.69 - ETA: 33:30 - loss: 0.69 - ETA: 33:29 - loss: 0.69 - ETA: 33:29 - loss: 0.69 - ETA: 33:28 - loss: 0.69 - ETA: 33:28 - loss: 0.69 - ETA: 33:27 - loss: 0.69 - ETA: 33:27 - loss: 0.69 - ETA: 33:27 - loss: 0.69 - ETA: 33:26 - loss: 0.6939"
     ]
    },
    {
     "name": "stdout",
     "output_type": "stream",
     "text": [
      " 37184/934781 [>.............................] - ETA: 33:26 - loss: 0.69 - ETA: 33:25 - loss: 0.69 - ETA: 33:25 - loss: 0.69 - ETA: 33:24 - loss: 0.69 - ETA: 33:24 - loss: 0.69 - ETA: 33:24 - loss: 0.69 - ETA: 33:24 - loss: 0.69 - ETA: 33:24 - loss: 0.69 - ETA: 33:24 - loss: 0.69 - ETA: 33:24 - loss: 0.69 - ETA: 33:24 - loss: 0.69 - ETA: 33:24 - loss: 0.69 - ETA: 33:23 - loss: 0.69 - ETA: 33:23 - loss: 0.69 - ETA: 33:23 - loss: 0.69 - ETA: 33:22 - loss: 0.69 - ETA: 33:22 - loss: 0.69 - ETA: 33:21 - loss: 0.69 - ETA: 33:21 - loss: 0.69 - ETA: 33:20 - loss: 0.69 - ETA: 33:20 - loss: 0.69 - ETA: 33:20 - loss: 0.69 - ETA: 33:20 - loss: 0.69 - ETA: 33:20 - loss: 0.69 - ETA: 33:20 - loss: 0.69 - ETA: 33:20 - loss: 0.69 - ETA: 33:20 - loss: 0.69 - ETA: 33:19 - loss: 0.69 - ETA: 33:19 - loss: 0.69 - ETA: 33:18 - loss: 0.69 - ETA: 33:18 - loss: 0.69 - ETA: 33:17 - loss: 0.69 - ETA: 33:17 - loss: 0.69 - ETA: 33:16 - loss: 0.69 - ETA: 33:16 - loss: 0.69 - ETA: 33:15 - loss: 0.69 - ETA: 33:15 - loss: 0.69 - ETA: 33:14 - loss: 0.69 - ETA: 33:14 - loss: 0.69 - ETA: 33:14 - loss: 0.69 - ETA: 33:14 - loss: 0.69 - ETA: 33:14 - loss: 0.69 - ETA: 33:14 - loss: 0.69 - ETA: 33:14 - loss: 0.69 - ETA: 33:14 - loss: 0.69 - ETA: 33:14 - loss: 0.69 - ETA: 33:14 - loss: 0.69 - ETA: 33:14 - loss: 0.69 - ETA: 33:14 - loss: 0.69 - ETA: 33:15 - loss: 0.69 - ETA: 33:14 - loss: 0.69 - ETA: 33:14 - loss: 0.69 - ETA: 33:15 - loss: 0.69 - ETA: 33:15 - loss: 0.69 - ETA: 33:15 - loss: 0.69 - ETA: 33:16 - loss: 0.69 - ETA: 33:16 - loss: 0.69 - ETA: 33:17 - loss: 0.69 - ETA: 33:17 - loss: 0.69 - ETA: 33:17 - loss: 0.69 - ETA: 33:16 - loss: 0.69 - ETA: 33:17 - loss: 0.69 - ETA: 33:16 - loss: 0.69 - ETA: 33:16 - loss: 0.69 - ETA: 33:16 - loss: 0.69 - ETA: 33:17 - loss: 0.69 - ETA: 33:17 - loss: 0.69 - ETA: 33:18 - loss: 0.69 - ETA: 33:18 - loss: 0.69 - ETA: 33:18 - loss: 0.69 - ETA: 33:19 - loss: 0.69 - ETA: 33:19 - loss: 0.69 - ETA: 33:20 - loss: 0.69 - ETA: 33:19 - loss: 0.69 - ETA: 33:20 - loss: 0.69 - ETA: 33:20 - loss: 0.69 - ETA: 33:20 - loss: 0.69 - ETA: 33:20 - loss: 0.69 - ETA: 33:20 - loss: 0.69 - ETA: 33:20 - loss: 0.69 - ETA: 33:19 - loss: 0.69 - ETA: 33:20 - loss: 0.69 - ETA: 33:20 - loss: 0.69 - ETA: 33:20 - loss: 0.69 - ETA: 33:20 - loss: 0.69 - ETA: 33:20 - loss: 0.69 - ETA: 33:20 - loss: 0.69 - ETA: 33:20 - loss: 0.69 - ETA: 33:20 - loss: 0.69 - ETA: 33:20 - loss: 0.69 - ETA: 33:20 - loss: 0.69 - ETA: 33:20 - loss: 0.69 - ETA: 33:20 - loss: 0.69 - ETA: 33:21 - loss: 0.69 - ETA: 33:21 - loss: 0.69 - ETA: 33:21 - loss: 0.69 - ETA: 33:21 - loss: 0.69 - ETA: 33:22 - loss: 0.69 - ETA: 33:22 - loss: 0.69 - ETA: 33:22 - loss: 0.69 - ETA: 33:23 - loss: 0.69 - ETA: 33:23 - loss: 0.69 - ETA: 33:22 - loss: 0.69 - ETA: 33:22 - loss: 0.69 - ETA: 33:22 - loss: 0.69 - ETA: 33:21 - loss: 0.69 - ETA: 33:22 - loss: 0.69 - ETA: 33:21 - loss: 0.69 - ETA: 33:21 - loss: 0.69 - ETA: 33:21 - loss: 0.69 - ETA: 33:20 - loss: 0.69 - ETA: 33:20 - loss: 0.69 - ETA: 33:19 - loss: 0.69 - ETA: 33:19 - loss: 0.69 - ETA: 33:18 - loss: 0.69 - ETA: 33:18 - loss: 0.69 - ETA: 33:18 - loss: 0.69 - ETA: 33:17 - loss: 0.69 - ETA: 33:17 - loss: 0.69 - ETA: 33:17 - loss: 0.69 - ETA: 33:16 - loss: 0.69 - ETA: 33:16 - loss: 0.69 - ETA: 33:16 - loss: 0.69 - ETA: 33:15 - loss: 0.69 - ETA: 33:15 - loss: 0.69 - ETA: 33:15 - loss: 0.69 - ETA: 33:14 - loss: 0.69 - ETA: 33:14 - loss: 0.69 - ETA: 33:13 - loss: 0.69 - ETA: 33:13 - loss: 0.69 - ETA: 33:13 - loss: 0.69 - ETA: 33:13 - loss: 0.69 - ETA: 33:12 - loss: 0.69 - ETA: 33:12 - loss: 0.69 - ETA: 33:12 - loss: 0.69 - ETA: 33:11 - loss: 0.69 - ETA: 33:11 - loss: 0.69 - ETA: 33:11 - loss: 0.69 - ETA: 33:10 - loss: 0.69 - ETA: 33:10 - loss: 0.69 - ETA: 33:09 - loss: 0.69 - ETA: 33:09 - loss: 0.69 - ETA: 33:09 - loss: 0.69 - ETA: 33:09 - loss: 0.69 - ETA: 33:08 - loss: 0.69 - ETA: 33:08 - loss: 0.69 - ETA: 33:08 - loss: 0.69 - ETA: 33:07 - loss: 0.69 - ETA: 33:07 - loss: 0.69 - ETA: 33:07 - loss: 0.69 - ETA: 33:06 - loss: 0.69 - ETA: 33:06 - loss: 0.69 - ETA: 33:06 - loss: 0.69 - ETA: 33:06 - loss: 0.69 - ETA: 33:06 - loss: 0.69 - ETA: 33:05 - loss: 0.69 - ETA: 33:05 - loss: 0.69 - ETA: 33:05 - loss: 0.69 - ETA: 33:05 - loss: 0.69 - ETA: 33:04 - loss: 0.69 - ETA: 33:04 - loss: 0.69 - ETA: 33:04 - loss: 0.69 - ETA: 33:04 - loss: 0.69 - ETA: 33:03 - loss: 0.69 - ETA: 33:03 - loss: 0.69 - ETA: 33:03 - loss: 0.69 - ETA: 33:02 - loss: 0.69 - ETA: 33:02 - loss: 0.69 - ETA: 33:02 - loss: 0.69 - ETA: 33:02 - loss: 0.69 - ETA: 33:02 - loss: 0.69 - ETA: 33:01 - loss: 0.69 - ETA: 33:01 - loss: 0.69 - ETA: 33:01 - loss: 0.69 - ETA: 33:01 - loss: 0.69 - ETA: 33:01 - loss: 0.69 - ETA: 33:00 - loss: 0.69 - ETA: 33:01 - loss: 0.69 - ETA: 33:01 - loss: 0.69 - ETA: 33:01 - loss: 0.69 - ETA: 33:02 - loss: 0.69 - ETA: 33:01 - loss: 0.69 - ETA: 33:01 - loss: 0.69 - ETA: 33:01 - loss: 0.69 - ETA: 33:01 - loss: 0.69 - ETA: 33:01 - loss: 0.69 - ETA: 33:01 - loss: 0.69 - ETA: 33:01 - loss: 0.69 - ETA: 33:00 - loss: 0.69 - ETA: 33:00 - loss: 0.69 - ETA: 33:00 - loss: 0.69 - ETA: 33:00 - loss: 0.69 - ETA: 33:00 - loss: 0.69 - ETA: 32:59 - loss: 0.69 - ETA: 32:59 - loss: 0.69 - ETA: 32:59 - loss: 0.69 - ETA: 32:59 - loss: 0.69 - ETA: 32:59 - loss: 0.69 - ETA: 32:59 - loss: 0.69 - ETA: 32:59 - loss: 0.69 - ETA: 32:58 - loss: 0.69 - ETA: 32:58 - loss: 0.69 - ETA: 32:58 - loss: 0.69 - ETA: 32:58 - loss: 0.69 - ETA: 32:58 - loss: 0.69 - ETA: 32:58 - loss: 0.69 - ETA: 32:58 - loss: 0.69 - ETA: 32:58 - loss: 0.69 - ETA: 32:58 - loss: 0.69 - ETA: 32:57 - loss: 0.69 - ETA: 32:57 - loss: 0.69 - ETA: 32:57 - loss: 0.69 - ETA: 32:57 - loss: 0.69 - ETA: 32:57 - loss: 0.69 - ETA: 32:57 - loss: 0.69 - ETA: 32:57 - loss: 0.69 - ETA: 32:57 - loss: 0.69 - ETA: 32:57 - loss: 0.69 - ETA: 32:56 - loss: 0.69 - ETA: 32:56 - loss: 0.69 - ETA: 32:56 - loss: 0.69 - ETA: 32:56 - loss: 0.69 - ETA: 32:56 - loss: 0.69 - ETA: 32:55 - loss: 0.69 - ETA: 32:55 - loss: 0.69 - ETA: 32:55 - loss: 0.69 - ETA: 32:55 - loss: 0.69 - ETA: 32:54 - loss: 0.69 - ETA: 32:54 - loss: 0.6937"
     ]
    },
    {
     "ename": "KeyboardInterrupt",
     "evalue": "",
     "output_type": "error",
     "traceback": [
      "\u001b[1;31m---------------------------------------------------------------------------\u001b[0m",
      "\u001b[1;31mKeyboardInterrupt\u001b[0m                         Traceback (most recent call last)",
      "\u001b[1;32m<ipython-input-62-d450ef7ce367>\u001b[0m in \u001b[0;36m<module>\u001b[1;34m()\u001b[0m\n\u001b[0;32m      7\u001b[0m           \u001b[0mepochs\u001b[0m\u001b[1;33m=\u001b[0m\u001b[1;36m1\u001b[0m\u001b[1;33m,\u001b[0m\u001b[1;33m\u001b[0m\u001b[0m\n\u001b[0;32m      8\u001b[0m           \u001b[0mverbose\u001b[0m\u001b[1;33m=\u001b[0m\u001b[1;32mTrue\u001b[0m\u001b[1;33m,\u001b[0m\u001b[1;33m\u001b[0m\u001b[0m\n\u001b[1;32m----> 9\u001b[1;33m           callbacks=[early_stop,check_point]) \n\u001b[0m",
      "\u001b[1;32m~\\Anaconda3\\lib\\site-packages\\keras\\engine\\training.py\u001b[0m in \u001b[0;36mfit\u001b[1;34m(self, x, y, batch_size, epochs, verbose, callbacks, validation_split, validation_data, shuffle, class_weight, sample_weight, initial_epoch, steps_per_epoch, validation_steps, **kwargs)\u001b[0m\n\u001b[0;32m   1037\u001b[0m                                         \u001b[0minitial_epoch\u001b[0m\u001b[1;33m=\u001b[0m\u001b[0minitial_epoch\u001b[0m\u001b[1;33m,\u001b[0m\u001b[1;33m\u001b[0m\u001b[0m\n\u001b[0;32m   1038\u001b[0m                                         \u001b[0msteps_per_epoch\u001b[0m\u001b[1;33m=\u001b[0m\u001b[0msteps_per_epoch\u001b[0m\u001b[1;33m,\u001b[0m\u001b[1;33m\u001b[0m\u001b[0m\n\u001b[1;32m-> 1039\u001b[1;33m                                         validation_steps=validation_steps)\n\u001b[0m\u001b[0;32m   1040\u001b[0m \u001b[1;33m\u001b[0m\u001b[0m\n\u001b[0;32m   1041\u001b[0m     def evaluate(self, x=None, y=None,\n",
      "\u001b[1;32m~\\Anaconda3\\lib\\site-packages\\keras\\engine\\training_arrays.py\u001b[0m in \u001b[0;36mfit_loop\u001b[1;34m(model, f, ins, out_labels, batch_size, epochs, verbose, callbacks, val_f, val_ins, shuffle, callback_metrics, initial_epoch, steps_per_epoch, validation_steps)\u001b[0m\n\u001b[0;32m    197\u001b[0m                     \u001b[0mins_batch\u001b[0m\u001b[1;33m[\u001b[0m\u001b[0mi\u001b[0m\u001b[1;33m]\u001b[0m \u001b[1;33m=\u001b[0m \u001b[0mins_batch\u001b[0m\u001b[1;33m[\u001b[0m\u001b[0mi\u001b[0m\u001b[1;33m]\u001b[0m\u001b[1;33m.\u001b[0m\u001b[0mtoarray\u001b[0m\u001b[1;33m(\u001b[0m\u001b[1;33m)\u001b[0m\u001b[1;33m\u001b[0m\u001b[0m\n\u001b[0;32m    198\u001b[0m \u001b[1;33m\u001b[0m\u001b[0m\n\u001b[1;32m--> 199\u001b[1;33m                 \u001b[0mouts\u001b[0m \u001b[1;33m=\u001b[0m \u001b[0mf\u001b[0m\u001b[1;33m(\u001b[0m\u001b[0mins_batch\u001b[0m\u001b[1;33m)\u001b[0m\u001b[1;33m\u001b[0m\u001b[0m\n\u001b[0m\u001b[0;32m    200\u001b[0m                 \u001b[0mouts\u001b[0m \u001b[1;33m=\u001b[0m \u001b[0mto_list\u001b[0m\u001b[1;33m(\u001b[0m\u001b[0mouts\u001b[0m\u001b[1;33m)\u001b[0m\u001b[1;33m\u001b[0m\u001b[0m\n\u001b[0;32m    201\u001b[0m                 \u001b[1;32mfor\u001b[0m \u001b[0ml\u001b[0m\u001b[1;33m,\u001b[0m \u001b[0mo\u001b[0m \u001b[1;32min\u001b[0m \u001b[0mzip\u001b[0m\u001b[1;33m(\u001b[0m\u001b[0mout_labels\u001b[0m\u001b[1;33m,\u001b[0m \u001b[0mouts\u001b[0m\u001b[1;33m)\u001b[0m\u001b[1;33m:\u001b[0m\u001b[1;33m\u001b[0m\u001b[0m\n",
      "\u001b[1;32m~\\Anaconda3\\lib\\site-packages\\keras\\backend\\tensorflow_backend.py\u001b[0m in \u001b[0;36m__call__\u001b[1;34m(self, inputs)\u001b[0m\n\u001b[0;32m   2713\u001b[0m                 \u001b[1;32mreturn\u001b[0m \u001b[0mself\u001b[0m\u001b[1;33m.\u001b[0m\u001b[0m_legacy_call\u001b[0m\u001b[1;33m(\u001b[0m\u001b[0minputs\u001b[0m\u001b[1;33m)\u001b[0m\u001b[1;33m\u001b[0m\u001b[0m\n\u001b[0;32m   2714\u001b[0m \u001b[1;33m\u001b[0m\u001b[0m\n\u001b[1;32m-> 2715\u001b[1;33m             \u001b[1;32mreturn\u001b[0m \u001b[0mself\u001b[0m\u001b[1;33m.\u001b[0m\u001b[0m_call\u001b[0m\u001b[1;33m(\u001b[0m\u001b[0minputs\u001b[0m\u001b[1;33m)\u001b[0m\u001b[1;33m\u001b[0m\u001b[0m\n\u001b[0m\u001b[0;32m   2716\u001b[0m         \u001b[1;32melse\u001b[0m\u001b[1;33m:\u001b[0m\u001b[1;33m\u001b[0m\u001b[0m\n\u001b[0;32m   2717\u001b[0m             \u001b[1;32mif\u001b[0m \u001b[0mpy_any\u001b[0m\u001b[1;33m(\u001b[0m\u001b[0mis_tensor\u001b[0m\u001b[1;33m(\u001b[0m\u001b[0mx\u001b[0m\u001b[1;33m)\u001b[0m \u001b[1;32mfor\u001b[0m \u001b[0mx\u001b[0m \u001b[1;32min\u001b[0m \u001b[0minputs\u001b[0m\u001b[1;33m)\u001b[0m\u001b[1;33m:\u001b[0m\u001b[1;33m\u001b[0m\u001b[0m\n",
      "\u001b[1;32m~\\Anaconda3\\lib\\site-packages\\keras\\backend\\tensorflow_backend.py\u001b[0m in \u001b[0;36m_call\u001b[1;34m(self, inputs)\u001b[0m\n\u001b[0;32m   2673\u001b[0m             \u001b[0mfetched\u001b[0m \u001b[1;33m=\u001b[0m \u001b[0mself\u001b[0m\u001b[1;33m.\u001b[0m\u001b[0m_callable_fn\u001b[0m\u001b[1;33m(\u001b[0m\u001b[1;33m*\u001b[0m\u001b[0marray_vals\u001b[0m\u001b[1;33m,\u001b[0m \u001b[0mrun_metadata\u001b[0m\u001b[1;33m=\u001b[0m\u001b[0mself\u001b[0m\u001b[1;33m.\u001b[0m\u001b[0mrun_metadata\u001b[0m\u001b[1;33m)\u001b[0m\u001b[1;33m\u001b[0m\u001b[0m\n\u001b[0;32m   2674\u001b[0m         \u001b[1;32melse\u001b[0m\u001b[1;33m:\u001b[0m\u001b[1;33m\u001b[0m\u001b[0m\n\u001b[1;32m-> 2675\u001b[1;33m             \u001b[0mfetched\u001b[0m \u001b[1;33m=\u001b[0m \u001b[0mself\u001b[0m\u001b[1;33m.\u001b[0m\u001b[0m_callable_fn\u001b[0m\u001b[1;33m(\u001b[0m\u001b[1;33m*\u001b[0m\u001b[0marray_vals\u001b[0m\u001b[1;33m)\u001b[0m\u001b[1;33m\u001b[0m\u001b[0m\n\u001b[0m\u001b[0;32m   2676\u001b[0m         \u001b[1;32mreturn\u001b[0m \u001b[0mfetched\u001b[0m\u001b[1;33m[\u001b[0m\u001b[1;33m:\u001b[0m\u001b[0mlen\u001b[0m\u001b[1;33m(\u001b[0m\u001b[0mself\u001b[0m\u001b[1;33m.\u001b[0m\u001b[0moutputs\u001b[0m\u001b[1;33m)\u001b[0m\u001b[1;33m]\u001b[0m\u001b[1;33m\u001b[0m\u001b[0m\n\u001b[0;32m   2677\u001b[0m \u001b[1;33m\u001b[0m\u001b[0m\n",
      "\u001b[1;32m~\\Anaconda3\\lib\\site-packages\\tensorflow\\python\\client\\session.py\u001b[0m in \u001b[0;36m__call__\u001b[1;34m(self, *args, **kwargs)\u001b[0m\n\u001b[0;32m   1380\u001b[0m           ret = tf_session.TF_SessionRunCallable(\n\u001b[0;32m   1381\u001b[0m               \u001b[0mself\u001b[0m\u001b[1;33m.\u001b[0m\u001b[0m_session\u001b[0m\u001b[1;33m.\u001b[0m\u001b[0m_session\u001b[0m\u001b[1;33m,\u001b[0m \u001b[0mself\u001b[0m\u001b[1;33m.\u001b[0m\u001b[0m_handle\u001b[0m\u001b[1;33m,\u001b[0m \u001b[0margs\u001b[0m\u001b[1;33m,\u001b[0m \u001b[0mstatus\u001b[0m\u001b[1;33m,\u001b[0m\u001b[1;33m\u001b[0m\u001b[0m\n\u001b[1;32m-> 1382\u001b[1;33m               run_metadata_ptr)\n\u001b[0m\u001b[0;32m   1383\u001b[0m         \u001b[1;32mif\u001b[0m \u001b[0mrun_metadata\u001b[0m\u001b[1;33m:\u001b[0m\u001b[1;33m\u001b[0m\u001b[0m\n\u001b[0;32m   1384\u001b[0m           \u001b[0mproto_data\u001b[0m \u001b[1;33m=\u001b[0m \u001b[0mtf_session\u001b[0m\u001b[1;33m.\u001b[0m\u001b[0mTF_GetBuffer\u001b[0m\u001b[1;33m(\u001b[0m\u001b[0mrun_metadata_ptr\u001b[0m\u001b[1;33m)\u001b[0m\u001b[1;33m\u001b[0m\u001b[0m\n",
      "\u001b[1;31mKeyboardInterrupt\u001b[0m: "
     ]
    }
   ],
   "source": [
    "from keras.callbacks import EarlyStopping, ModelCheckpoint\n",
    "\n",
    "check_point = ModelCheckpoint('model.hdf5',verbose=True, save_best_only=True)\n",
    "early_stop = EarlyStopping(patience=1,verbose=True)\n",
    "model.fit(X_train_split, y_train,\n",
    "          validation_data=(X_valid_split, y_valid),\n",
    "          epochs=1,\n",
    "          verbose=True,\n",
    "          callbacks=[early_stop,check_point]) "
   ]
  },
  {
   "cell_type": "code",
   "execution_count": null,
   "metadata": {},
   "outputs": [],
   "source": []
  }
 ],
 "metadata": {
  "kernelspec": {
   "display_name": "Python 3",
   "language": "python",
   "name": "python3"
  },
  "language_info": {
   "codemirror_mode": {
    "name": "ipython",
    "version": 3
   },
   "file_extension": ".py",
   "mimetype": "text/x-python",
   "name": "python",
   "nbconvert_exporter": "python",
   "pygments_lexer": "ipython3",
   "version": "3.6.5"
  }
 },
 "nbformat": 4,
 "nbformat_minor": 2
}
